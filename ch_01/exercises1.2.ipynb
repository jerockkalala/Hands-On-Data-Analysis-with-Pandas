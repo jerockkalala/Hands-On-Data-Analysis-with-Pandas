{
 "cells": [
  {
   "cell_type": "markdown",
   "metadata": {},
   "source": [
    "# Coding exercises\n",
    "Exercises 1-3 are thought exercises that don't require coding. \n",
    "\n",
    "## Exercise 4: Generate the data by running this cell\n",
    "This will give you a list of numbers to work with in the remaining exercises."
   ]
  },
  {
   "cell_type": "markdown",
   "metadata": {},
   "source": [
    "## Exercises 1-3 are thought exercises that don't require coding.\n",
    "\n",
    "1.\tJupiterLab interface looked up.\n",
    "2.\tYes, all the data is roughly distributed when looking at the three plots, because the normal distribution is always symmetrical about the mean.\n",
    "3.\tIt will make more sense to use the median for the measure of center instead of the mean when the distribution of data values is skewed or when there are clear outliers. If the distribution of the data values is symmetrical and there are no clear outliers, the mean is the best to use.\n"
   ]
  },
  {
   "cell_type": "code",
   "execution_count": 53,
   "metadata": {
    "scrolled": true
   },
   "outputs": [
    {
     "name": "stdout",
     "output_type": "stream",
     "text": [
      "Hello World! I wonder why that is always the default coding text to start with\n",
      "The sum of a and b is:  15\n",
      "The different a and b is:  9\n",
      "The division of a and b is:  4.0\n",
      "The multiplicationt a and b is:  9\n",
      "My name is :  Jerock Kalala\n",
      "My current list is:  ['dog', 'cat', 'car', 25]\n",
      "Your list is:  ['dog', 'cat', 'car', 25]\n",
      "This is my new list:  ['dog', 'cat', 'car', 25, 'orange']\n",
      "Our two lists put together:  ['dog', 'cat', 'car', 25, 'orange', 'Toyota', 'Mazda', 'Ford', 99]\n",
      "Showing my created tuple:  ('apple', 'banana', 'cherry', 'apple', 'cherry')\n"
     ]
    }
   ],
   "source": [
    "# Title: Exercice 1.4\n",
    "# Author: Jerock Kalala\n",
    "# Date: September 6th 2022\n",
    "# Modified By: --\n",
    "# Description: Printing a string, the sum of two number, the difference, the product, and the division\n",
    "\n",
    "print(\"Hello World! I wonder why that is always the default coding text to start with\")\n",
    "a=12 ; b=3; c=\"Jerock\"; d=\"Kalala\"; \n",
    "print(\"The sum of a and b is: \", a+b)\n",
    "print(\"The different a and b is: \", a-b)\n",
    "print(\"The division of a and b is: \", a/b)\n",
    "print(\"The multiplicationt a and b is: \", a-b)\n",
    "print(\"My name is : \", c+\" \"+d)\n",
    "mylist=[\"dog\", \"cat\", \"car\", 25]\n",
    "yourlist=[\"Toyota\", \"Mazda\", \"Ford\", 99]\n",
    "print(\"My current list is: \", mylist)\n",
    "print(\"Your list is: \", mylist)\n",
    "mylist.append(\"orange\")\n",
    "print(\"This is my new list: \", mylist)\n",
    "mylist.extend(yourlist)\n",
    "print(\"Our two lists put together: \", mylist)\n",
    "mytuple = (\"apple\", \"banana\", \"cherry\", \"apple\", \"cherry\")\n",
    "print(\"Showing my created tuple: \", mytuple)"
   ]
  },
  {
   "cell_type": "markdown",
   "metadata": {},
   "source": [
    "### Exercise 4: Generate the data by running this cell¶\n",
    "This will give you a list of numbers to work with in the remaining exercises."
   ]
  },
  {
   "cell_type": "code",
   "execution_count": 12,
   "metadata": {
    "scrolled": true
   },
   "outputs": [
    {
     "name": "stdout",
     "output_type": "stream",
     "text": [
      "[844000.0, 758000.0, 421000.0, 259000.0, 511000.0, 405000.0, 784000.0, 303000.0, 477000.0, 583000.0, 908000.0, 505000.0, 282000.0, 756000.0, 618000.0, 251000.0, 910000.0, 983000.0, 810000.0, 902000.0, 310000.0, 730000.0, 899000.0, 684000.0, 472000.0, 101000.0, 434000.0, 611000.0, 913000.0, 967000.0, 477000.0, 865000.0, 260000.0, 805000.0, 549000.0, 14000.0, 720000.0, 399000.0, 825000.0, 668000.0, 1000.0, 494000.0, 868000.0, 244000.0, 325000.0, 870000.0, 191000.0, 568000.0, 239000.0, 968000.0, 803000.0, 448000.0, 80000.0, 320000.0, 508000.0, 933000.0, 109000.0, 551000.0, 707000.0, 547000.0, 814000.0, 540000.0, 964000.0, 603000.0, 588000.0, 445000.0, 596000.0, 385000.0, 576000.0, 290000.0, 189000.0, 187000.0, 613000.0, 657000.0, 477000.0, 90000.0, 758000.0, 877000.0, 923000.0, 842000.0, 898000.0, 923000.0, 541000.0, 391000.0, 705000.0, 276000.0, 812000.0, 849000.0, 895000.0, 590000.0, 950000.0, 580000.0, 451000.0, 660000.0, 996000.0, 917000.0, 793000.0, 82000.0, 613000.0, 486000.0]\n"
     ]
    }
   ],
   "source": [
    "import random\n",
    "random.seed(0)\n",
    "salaries = [round(random.random()*1000000, -3) for _ in range(100)]\n",
    "print(salaries)"
   ]
  },
  {
   "cell_type": "markdown",
   "metadata": {},
   "source": [
    "## Exercise 5: Calculating statistics and verifying\n",
    "### mean"
   ]
  },
  {
   "cell_type": "code",
   "execution_count": 61,
   "metadata": {},
   "outputs": [
    {
     "name": "stdout",
     "output_type": "stream",
     "text": [
      "Here is the mean calculated withou statictic library:  585690.0\n",
      "Mean calculated withou statictic library:  585690.0\n"
     ]
    }
   ],
   "source": [
    "import math\n",
    "import statistics\n",
    "\n",
    "#calculate Mean from scratch\n",
    "mean_1=(sum(salaries)/len(salaries))\n",
    "#calculate Mean using statistics library\n",
    "mean_2= statistics.mean(salaries)\n",
    "#Display\n",
    "print(\"Here is the mean calculated withou statictic library: \", mean_1)\n",
    "print(\"Mean calculated withou statictic library: \", mean_2)"
   ]
  },
  {
   "cell_type": "markdown",
   "metadata": {},
   "source": [
    "### median"
   ]
  },
  {
   "cell_type": "code",
   "execution_count": 25,
   "metadata": {},
   "outputs": [
    {
     "name": "stdout",
     "output_type": "stream",
     "text": [
      "Here is the median calculated withou statictic library:  589000.0\n",
      "Median calculated without statictic library:  589000.0\n"
     ]
    }
   ],
   "source": [
    "import random\n",
    "import math\n",
    "import statistics\n",
    "random.seed(0)\n",
    "salaries = [round(random.random()*1000000, -3) for _ in range(100)]\n",
    "#calculate Median from scratch\n",
    "salaries.sort()\n",
    "if len(salaries)% 2 == 1:\n",
    "  median_1 = salaries[len(salaries)//2]\n",
    "else:\n",
    "  median_1 = (salaries[len(salaries)//2-1] + salaries[len(salaries)//2])/2\n",
    "#calculate Median using statistic methode\n",
    "median_2= statistics.median(salaries)\n",
    "#Display\n",
    "print(\"Here is the median calculated withou statictic library: \", median_1)\n",
    "print(\"Median calculated without statictic library: \", median_2)"
   ]
  },
  {
   "cell_type": "markdown",
   "metadata": {},
   "source": [
    "### mode"
   ]
  },
  {
   "cell_type": "code",
   "execution_count": 24,
   "metadata": {},
   "outputs": [
    {
     "name": "stdout",
     "output_type": "stream",
     "text": [
      "Here is the mode calculated withou statictic library:  477000.0\n",
      "Mode calculated without statictic library:  477000.0\n"
     ]
    }
   ],
   "source": [
    "import random\n",
    "import math\n",
    "import statistics\n",
    "random.seed(0)\n",
    "salaries = [round(random.random()*1000000, -3) for _ in range(100)]\n",
    "#calculate Mode from scratch\n",
    "mode_1=max(salaries, key= salaries.count)\n",
    "#calculate Mode using statistic library\n",
    "mode_2= statistics.mode(salaries)\n",
    "#Display\n",
    "print(\"Here is the mode calculated withou statictic library: \", mode_1)\n",
    "print(\"Mode calculated without statictic library: \", mode_2)"
   ]
  },
  {
   "cell_type": "markdown",
   "metadata": {},
   "source": [
    "### sample variance\n",
    "Remember to use Bessel's correction."
   ]
  },
  {
   "cell_type": "code",
   "execution_count": 38,
   "metadata": {},
   "outputs": [
    {
     "name": "stdout",
     "output_type": "stream",
     "text": [
      "Sample variance using Statistics library is 70664054444.44444\n",
      "Sample variance using numpy is 70664054444.44444\n",
      "\n",
      "Population variance using Statistics library is:  69957413900.0\n",
      "Population variance using numpy is:  69957413900.0\n"
     ]
    }
   ],
   "source": [
    "import random\n",
    "import statistics\n",
    "import numpy as np\n",
    "\n",
    "random.seed(0)\n",
    "salaries = [round(random.random()*1000000, -3) for _ in range(100)]\n",
    "\n",
    "#using statistics library\n",
    "var= statistics.variance(salaries)\n",
    "print(\"Sample variance using Statistics library is\", var)\n",
    "#using numpy\n",
    "var_2=np.var(salaries, ddof=1)\n",
    "print(\"Sample variance using numpy is\", var_2)\n",
    "\n",
    "#population sample using statistics library\n",
    "var= statistics.pvariance(salaries)\n",
    "print(\"\\nPopulation variance using Statistics library is: \", var)\n",
    "#Population sample using numpy\n",
    "var_2=np.var(salaries)\n",
    "print(\"Population variance using numpy is: \", var_2)"
   ]
  },
  {
   "cell_type": "markdown",
   "metadata": {},
   "source": [
    "### sample standard deviation\n",
    "Remember to use Bessel's correction."
   ]
  },
  {
   "cell_type": "code",
   "execution_count": 39,
   "metadata": {},
   "outputs": [
    {
     "name": "stdout",
     "output_type": "stream",
     "text": [
      "sample variance using Statistics library is:  265827.11382484\n",
      "Sample variance using numpy is:  265827.11382484\n",
      "\n",
      "Population standard deviation using Statistics library is:  264494.6386980273\n",
      "population standard deviation using numpy is:  264494.6386980273\n"
     ]
    }
   ],
   "source": [
    "#using statistics library\n",
    "standar= statistics.stdev(salaries)\n",
    "print(\"Sample standard deviation using Statistics library is: \", standar)\n",
    "#using numpy\n",
    "standar_2=np.std(salaries, ddof=1)\n",
    "print(\"Sample standatrd deviation using numpy is: \", standar_2)\n",
    "\n",
    "#using statistics library\n",
    "standar= statistics.pstdev(salaries)\n",
    "print(\"\\nPopulation standard deviation using Statistics library is: \", standar)\n",
    "#using numpy\n",
    "standar_2=np.std(salaries)\n",
    "print(\"population standard deviation using numpy is: \", standar_2)"
   ]
  },
  {
   "cell_type": "markdown",
   "metadata": {},
   "source": [
    "## Exercise 6: Calculating more statistics\n",
    "### range"
   ]
  },
  {
   "cell_type": "code",
   "execution_count": 32,
   "metadata": {},
   "outputs": [
    {
     "name": "stdout",
     "output_type": "stream",
     "text": [
      "The range is  1000.0 996000.0\n"
     ]
    }
   ],
   "source": [
    "minimum=min(salaries)\n",
    "maximum=max(salaries)\n",
    "print(\"The range is \", minimum, maximum)"
   ]
  },
  {
   "cell_type": "markdown",
   "metadata": {},
   "source": [
    "### coefficient of variation"
   ]
  },
  {
   "cell_type": "code",
   "execution_count": 40,
   "metadata": {},
   "outputs": [
    {
     "name": "stdout",
     "output_type": "stream",
     "text": [
      "The coefficient of variation is:  45.15949370793889\n"
     ]
    }
   ],
   "source": [
    "#coefficient of variation= (standard deviation/Mean)*100\n",
    "coeff_var= (standar_2/mean_2)*100\n",
    "print(\"The coefficient of variation is: \", coeff_var)"
   ]
  },
  {
   "cell_type": "markdown",
   "metadata": {},
   "source": [
    "### interquartile range"
   ]
  },
  {
   "cell_type": "code",
   "execution_count": 47,
   "metadata": {},
   "outputs": [
    {
     "name": "stdout",
     "output_type": "stream",
     "text": [
      "The interquqrtile range is:  413250.0\n"
     ]
    }
   ],
   "source": [
    "#calculation interquartile range\n",
    "q1 = np.percentile(salaries, 25)\n",
    "q3 = np.percentile(salaries, 75)\n",
    "iqr = q3 - q1\n",
    "print(\"The interquqrtile range is: \", iqr)"
   ]
  },
  {
   "cell_type": "markdown",
   "metadata": {},
   "source": [
    "### quartile coefficent of dispersion"
   ]
  },
  {
   "cell_type": "code",
   "execution_count": 57,
   "metadata": {},
   "outputs": [
    {
     "name": "stdout",
     "output_type": "stream",
     "text": [
      "The queartile coefficient of dispersion is:  0.338660110633067\n"
     ]
    }
   ],
   "source": [
    "#quartile coeff of dispersion = (q3-q1)/(q3+q1)\n",
    "qrtcoeff = (q3-q1)/(q3+q1)\n",
    "print(\"The queartile coefficient of dispersion is: \", qrtcoeff)"
   ]
  },
  {
   "cell_type": "markdown",
   "metadata": {},
   "source": [
    "## Exercise 7: Scaling data\n",
    "### min-max scaling"
   ]
  },
  {
   "cell_type": "code",
   "execution_count": 71,
   "metadata": {},
   "outputs": [
    {
     "ename": "TypeError",
     "evalue": "'float' object is not callable",
     "output_type": "error",
     "traceback": [
      "\u001b[1;31m---------------------------------------------------------------------------\u001b[0m",
      "\u001b[1;31mTypeError\u001b[0m                                 Traceback (most recent call last)",
      "\u001b[1;32m~\\AppData\\Local\\Temp/ipykernel_11204/2439979993.py\u001b[0m in \u001b[0;36m<module>\u001b[1;34m\u001b[0m\n\u001b[1;32m----> 1\u001b[1;33m \u001b[0mmin\u001b[0m \u001b[1;33m=\u001b[0m \u001b[0mmin\u001b[0m\u001b[1;33m(\u001b[0m\u001b[0msalaries\u001b[0m\u001b[1;33m)\u001b[0m\u001b[1;33m\u001b[0m\u001b[1;33m\u001b[0m\u001b[0m\n\u001b[0m\u001b[0;32m      2\u001b[0m \u001b[0mmax\u001b[0m \u001b[1;33m=\u001b[0m \u001b[0mmax\u001b[0m\u001b[1;33m(\u001b[0m\u001b[0msalaries\u001b[0m\u001b[1;33m)\u001b[0m\u001b[1;33m\u001b[0m\u001b[1;33m\u001b[0m\u001b[0m\n\u001b[0;32m      3\u001b[0m \u001b[1;32mfor\u001b[0m \u001b[0mx\u001b[0m \u001b[1;32min\u001b[0m \u001b[0msalaries\u001b[0m\u001b[1;33m:\u001b[0m\u001b[1;33m\u001b[0m\u001b[1;33m\u001b[0m\u001b[0m\n\u001b[0;32m      4\u001b[0m     \u001b[0mx_scaled\u001b[0m \u001b[1;33m=\u001b[0m \u001b[1;33m(\u001b[0m\u001b[0mx\u001b[0m \u001b[1;33m-\u001b[0m \u001b[0mmin\u001b[0m\u001b[1;33m)\u001b[0m \u001b[1;33m/\u001b[0m \u001b[1;33m(\u001b[0m\u001b[0mmax\u001b[0m \u001b[1;33m-\u001b[0m \u001b[0mmin\u001b[0m\u001b[1;33m)\u001b[0m\u001b[1;33m\u001b[0m\u001b[1;33m\u001b[0m\u001b[0m\n\u001b[0;32m      5\u001b[0m     \u001b[0mprint\u001b[0m\u001b[1;33m(\u001b[0m\u001b[0mx_scaled\u001b[0m\u001b[1;33m)\u001b[0m\u001b[1;33m\u001b[0m\u001b[1;33m\u001b[0m\u001b[0m\n",
      "\u001b[1;31mTypeError\u001b[0m: 'float' object is not callable"
     ]
    }
   ],
   "source": [
    "min = min(salaries)\n",
    "max = max(salaries)\n",
    "for x in salaries:\n",
    "    x_scaled = (x - min) / (max - min)\n",
    "    print(x_scaled)"
   ]
  },
  {
   "cell_type": "markdown",
   "metadata": {},
   "source": [
    "### standardizing"
   ]
  },
  {
   "cell_type": "code",
   "execution_count": 70,
   "metadata": {},
   "outputs": [
    {
     "name": "stdout",
     "output_type": "stream",
     "text": [
      "MinMaxScaler(feature_range=[844000.0, 758000.0, 421000.0, 259000.0, 511000.0,\n",
      "                            405000.0, 784000.0, 303000.0, 477000.0, 583000.0,\n",
      "                            908000.0, 505000.0, 282000.0, 756000.0, 618000.0,\n",
      "                            251000.0, 910000.0, 983000.0, 810000.0, 902000.0,\n",
      "                            310000.0, 730000.0, 899000.0, 684000.0, 472000.0,\n",
      "                            101000.0, 434000.0, 611000.0, 913000.0, 967000.0, ...])\n"
     ]
    }
   ],
   "source": [
    "from sklearn.preprocessing import MinMaxScaler\n",
    "import random\n",
    "random.seed(0)\n",
    "salaries = [round(random.random()*1000000, -3) for _ in range(100)]\n",
    "\n",
    "mmscaler = MinMaxScaler(salaries)\n",
    "print(mmscaler)"
   ]
  },
  {
   "cell_type": "markdown",
   "metadata": {},
   "source": [
    "## Exercise 8: Calculating covariance and correlation\n",
    "### covariance"
   ]
  },
  {
   "cell_type": "code",
   "execution_count": 75,
   "metadata": {},
   "outputs": [
    {
     "name": "stdout",
     "output_type": "stream",
     "text": [
      "70664054444.44446\n"
     ]
    }
   ],
   "source": [
    "print(np.cov(salaries))\n"
   ]
  },
  {
   "cell_type": "markdown",
   "metadata": {},
   "source": [
    "### Pearson correlation coefficient ($\\rho$)"
   ]
  },
  {
   "cell_type": "code",
   "execution_count": 76,
   "metadata": {},
   "outputs": [
    {
     "name": "stdout",
     "output_type": "stream",
     "text": [
      "1.0\n"
     ]
    }
   ],
   "source": [
    "print(np.corrcoef(salaries)) "
   ]
  },
  {
   "cell_type": "code",
   "execution_count": null,
   "metadata": {},
   "outputs": [],
   "source": []
  }
 ],
 "metadata": {
  "kernelspec": {
   "display_name": "Python 3 (ipykernel)",
   "language": "python",
   "name": "python3"
  },
  "language_info": {
   "codemirror_mode": {
    "name": "ipython",
    "version": 3
   },
   "file_extension": ".py",
   "mimetype": "text/x-python",
   "name": "python",
   "nbconvert_exporter": "python",
   "pygments_lexer": "ipython3",
   "version": "3.9.7"
  }
 },
 "nbformat": 4,
 "nbformat_minor": 2
}
