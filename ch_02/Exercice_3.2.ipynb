{
 "cells": [
  {
   "cell_type": "markdown",
   "source": [
    "### Title: Exercice 3.2\n",
    "### Author: Jerock Kalala\n",
    "### Date: September 24th 2022\n",
    "### Professor: David Kinney\n",
    "### Pandas skills exercises:"
   ],
   "metadata": {
    "collapsed": false,
    "pycharm": {
     "name": "#%% md\n"
    }
   }
  },
  {
   "cell_type": "markdown",
   "source": [
    "##### 1. Find the 95th percentile of earthquake magnitude in Japan using the magType of 'mb'."
   ],
   "metadata": {
    "collapsed": false,
    "pycharm": {
     "name": "#%% md\n"
    }
   }
  },
  {
   "cell_type": "code",
   "execution_count": 8,
   "outputs": [],
   "source": [
    "import numpy as np\n",
    "import pandas as dp\n",
    "import pandas as pd\n",
    "\n",
    "df = pd.read_csv(\"E:\\\\Bellevue\\\\Fall_2022\\\\DSC 350 Data Wrangling for Data Scienc\\\\Week_3\\\\data\\\\parsed.csv\")"
   ],
   "metadata": {
    "collapsed": false,
    "pycharm": {
     "name": "#%%\n"
    }
   }
  },
  {
   "cell_type": "code",
   "execution_count": 43,
   "outputs": [
    {
     "data": {
      "text/plain": "             mag  tsunami\ncount  50.000000     50.0\nmean    4.530000      0.0\nstd     0.266688      0.0\nmin     4.000000      0.0\n50%     4.600000      0.0\n95%     4.900000      0.0\nmax     5.400000      0.0",
      "text/html": "<div>\n<style scoped>\n    .dataframe tbody tr th:only-of-type {\n        vertical-align: middle;\n    }\n\n    .dataframe tbody tr th {\n        vertical-align: top;\n    }\n\n    .dataframe thead th {\n        text-align: right;\n    }\n</style>\n<table border=\"1\" class=\"dataframe\">\n  <thead>\n    <tr style=\"text-align: right;\">\n      <th></th>\n      <th>mag</th>\n      <th>tsunami</th>\n    </tr>\n  </thead>\n  <tbody>\n    <tr>\n      <th>count</th>\n      <td>50.000000</td>\n      <td>50.0</td>\n    </tr>\n    <tr>\n      <th>mean</th>\n      <td>4.530000</td>\n      <td>0.0</td>\n    </tr>\n    <tr>\n      <th>std</th>\n      <td>0.266688</td>\n      <td>0.0</td>\n    </tr>\n    <tr>\n      <th>min</th>\n      <td>4.000000</td>\n      <td>0.0</td>\n    </tr>\n    <tr>\n      <th>50%</th>\n      <td>4.600000</td>\n      <td>0.0</td>\n    </tr>\n    <tr>\n      <th>95%</th>\n      <td>4.900000</td>\n      <td>0.0</td>\n    </tr>\n    <tr>\n      <th>max</th>\n      <td>5.400000</td>\n      <td>0.0</td>\n    </tr>\n  </tbody>\n</table>\n</div>"
     },
     "execution_count": 43,
     "metadata": {},
     "output_type": "execute_result"
    }
   ],
   "source": [
    "##select required data, and assign them to a new Japan dataframe\n",
    "dfj=(df.loc[(df.place.str.contains(r'Japan')) & (df.magType =='mb'),\n",
    "        ['alert', 'mag', 'magType', 'title', 'tsunami', 'type']])\n",
    "dfj.describe(percentiles=[0.95])"
   ],
   "metadata": {
    "collapsed": false,
    "pycharm": {
     "name": "#%%\n"
    }
   }
  },
  {
   "cell_type": "markdown",
   "source": [
    "##### 2. Find the percentage of earthquakes in Indonesia that were coupled with tsunamis."
   ],
   "metadata": {
    "collapsed": false,
    "pycharm": {
     "name": "#%% md\n"
    }
   }
  },
  {
   "cell_type": "code",
   "execution_count": 52,
   "outputs": [
    {
     "data": {
      "text/plain": "      mag  tsunami                                place        type  \\\n1406  5.1        1            13km E of Palu, Indonesia  earthquake   \n1698  5.1        1      14km ENE of Sambelia, Indonesia  earthquake   \n3112  5.3        1       29km SSW of Nggongi, Indonesia  earthquake   \n3150  5.0        1    38km S of Nggongi Satu, Indonesia  earthquake   \n3605  5.0        1     50km WSW of Kasiguncu, Indonesia  earthquake   \n3609  5.6        1  33km SSW of Nggongi Satu, Indonesia  earthquake   \n3692  5.9        1       30km SSW of Nggongi, Indonesia  earthquake   \n3699  6.0        1    33km S of Nggongi Satu, Indonesia  earthquake   \n3707  5.2        1            25km N of Palu, Indonesia  earthquake   \n3709  5.4        1    31km S of Nggongi Satu, Indonesia  earthquake   \n3714  5.0        1  33km SSW of Nggongi Satu, Indonesia  earthquake   \n4027  5.1        1         101km NNW of Palu, Indonesia  earthquake   \n4827  5.1        1       49km W of Kasiguncu, Indonesia  earthquake   \n4888  5.1        1       53km W of Kasiguncu, Indonesia  earthquake   \n5054  5.0        1     55km WSW of Kasiguncu, Indonesia  earthquake   \n5146  5.0        1          45km SSW of Palu, Indonesia  earthquake   \n5179  5.4        1         113km NNW of Palu, Indonesia  earthquake   \n5195  5.2        1            58km S of Palu, Indonesia  earthquake   \n5196  5.7        1           107km N of Palu, Indonesia  earthquake   \n5214  5.1        1            47km N of Palu, Indonesia  earthquake   \n5240  5.2        1          68km SSE of Palu, Indonesia  earthquake   \n5244  5.7        1          17km NNE of Palu, Indonesia  earthquake   \n5245  5.1        1            42km N of Palu, Indonesia  earthquake   \n5250  5.4        1            24km N of Palu, Indonesia  earthquake   \n5256  5.8        1          21km SSE of Palu, Indonesia  earthquake   \n5258  5.7        1            17km E of Palu, Indonesia  earthquake   \n5259  5.8        1            99km N of Palu, Indonesia  earthquake   \n5263  7.5        1            78km N of Palu, Indonesia  earthquake   \n5289  5.0        1            60km N of Palu, Indonesia  earthquake   \n5321  5.4        1          77km NNE of Palu, Indonesia  earthquake   \n5323  6.1        1          55km NNW of Palu, Indonesia  earthquake   \n5790  5.1        1       117km N of Saumlaki, Indonesia  earthquake   \n6004  5.1        1        19km WNW of Langsa, Indonesia  earthquake   \n6134  5.0        1       85km W of Manokwari, Indonesia  earthquake   \n\n      percentage  \n1406    0.036502  \n1698    0.036502  \n3112    0.037934  \n3150    0.035787  \n3605    0.035787  \n3609    0.040081  \n3692    0.042228  \n3699    0.042944  \n3707    0.037218  \n3709    0.038649  \n3714    0.035787  \n4027    0.036502  \n4827    0.036502  \n4888    0.036502  \n5054    0.035787  \n5146    0.035787  \n5179    0.038649  \n5195    0.037218  \n5196    0.040797  \n5214    0.036502  \n5240    0.037218  \n5244    0.040797  \n5245    0.036502  \n5250    0.038649  \n5256    0.041512  \n5258    0.040797  \n5259    0.041512  \n5263    0.053680  \n5289    0.035787  \n5321    0.038649  \n5323    0.043660  \n5790    0.036502  \n6004    0.036502  \n6134    0.035787  ",
      "text/html": "<div>\n<style scoped>\n    .dataframe tbody tr th:only-of-type {\n        vertical-align: middle;\n    }\n\n    .dataframe tbody tr th {\n        vertical-align: top;\n    }\n\n    .dataframe thead th {\n        text-align: right;\n    }\n</style>\n<table border=\"1\" class=\"dataframe\">\n  <thead>\n    <tr style=\"text-align: right;\">\n      <th></th>\n      <th>mag</th>\n      <th>tsunami</th>\n      <th>place</th>\n      <th>type</th>\n      <th>percentage</th>\n    </tr>\n  </thead>\n  <tbody>\n    <tr>\n      <th>1406</th>\n      <td>5.1</td>\n      <td>1</td>\n      <td>13km E of Palu, Indonesia</td>\n      <td>earthquake</td>\n      <td>0.036502</td>\n    </tr>\n    <tr>\n      <th>1698</th>\n      <td>5.1</td>\n      <td>1</td>\n      <td>14km ENE of Sambelia, Indonesia</td>\n      <td>earthquake</td>\n      <td>0.036502</td>\n    </tr>\n    <tr>\n      <th>3112</th>\n      <td>5.3</td>\n      <td>1</td>\n      <td>29km SSW of Nggongi, Indonesia</td>\n      <td>earthquake</td>\n      <td>0.037934</td>\n    </tr>\n    <tr>\n      <th>3150</th>\n      <td>5.0</td>\n      <td>1</td>\n      <td>38km S of Nggongi Satu, Indonesia</td>\n      <td>earthquake</td>\n      <td>0.035787</td>\n    </tr>\n    <tr>\n      <th>3605</th>\n      <td>5.0</td>\n      <td>1</td>\n      <td>50km WSW of Kasiguncu, Indonesia</td>\n      <td>earthquake</td>\n      <td>0.035787</td>\n    </tr>\n    <tr>\n      <th>3609</th>\n      <td>5.6</td>\n      <td>1</td>\n      <td>33km SSW of Nggongi Satu, Indonesia</td>\n      <td>earthquake</td>\n      <td>0.040081</td>\n    </tr>\n    <tr>\n      <th>3692</th>\n      <td>5.9</td>\n      <td>1</td>\n      <td>30km SSW of Nggongi, Indonesia</td>\n      <td>earthquake</td>\n      <td>0.042228</td>\n    </tr>\n    <tr>\n      <th>3699</th>\n      <td>6.0</td>\n      <td>1</td>\n      <td>33km S of Nggongi Satu, Indonesia</td>\n      <td>earthquake</td>\n      <td>0.042944</td>\n    </tr>\n    <tr>\n      <th>3707</th>\n      <td>5.2</td>\n      <td>1</td>\n      <td>25km N of Palu, Indonesia</td>\n      <td>earthquake</td>\n      <td>0.037218</td>\n    </tr>\n    <tr>\n      <th>3709</th>\n      <td>5.4</td>\n      <td>1</td>\n      <td>31km S of Nggongi Satu, Indonesia</td>\n      <td>earthquake</td>\n      <td>0.038649</td>\n    </tr>\n    <tr>\n      <th>3714</th>\n      <td>5.0</td>\n      <td>1</td>\n      <td>33km SSW of Nggongi Satu, Indonesia</td>\n      <td>earthquake</td>\n      <td>0.035787</td>\n    </tr>\n    <tr>\n      <th>4027</th>\n      <td>5.1</td>\n      <td>1</td>\n      <td>101km NNW of Palu, Indonesia</td>\n      <td>earthquake</td>\n      <td>0.036502</td>\n    </tr>\n    <tr>\n      <th>4827</th>\n      <td>5.1</td>\n      <td>1</td>\n      <td>49km W of Kasiguncu, Indonesia</td>\n      <td>earthquake</td>\n      <td>0.036502</td>\n    </tr>\n    <tr>\n      <th>4888</th>\n      <td>5.1</td>\n      <td>1</td>\n      <td>53km W of Kasiguncu, Indonesia</td>\n      <td>earthquake</td>\n      <td>0.036502</td>\n    </tr>\n    <tr>\n      <th>5054</th>\n      <td>5.0</td>\n      <td>1</td>\n      <td>55km WSW of Kasiguncu, Indonesia</td>\n      <td>earthquake</td>\n      <td>0.035787</td>\n    </tr>\n    <tr>\n      <th>5146</th>\n      <td>5.0</td>\n      <td>1</td>\n      <td>45km SSW of Palu, Indonesia</td>\n      <td>earthquake</td>\n      <td>0.035787</td>\n    </tr>\n    <tr>\n      <th>5179</th>\n      <td>5.4</td>\n      <td>1</td>\n      <td>113km NNW of Palu, Indonesia</td>\n      <td>earthquake</td>\n      <td>0.038649</td>\n    </tr>\n    <tr>\n      <th>5195</th>\n      <td>5.2</td>\n      <td>1</td>\n      <td>58km S of Palu, Indonesia</td>\n      <td>earthquake</td>\n      <td>0.037218</td>\n    </tr>\n    <tr>\n      <th>5196</th>\n      <td>5.7</td>\n      <td>1</td>\n      <td>107km N of Palu, Indonesia</td>\n      <td>earthquake</td>\n      <td>0.040797</td>\n    </tr>\n    <tr>\n      <th>5214</th>\n      <td>5.1</td>\n      <td>1</td>\n      <td>47km N of Palu, Indonesia</td>\n      <td>earthquake</td>\n      <td>0.036502</td>\n    </tr>\n    <tr>\n      <th>5240</th>\n      <td>5.2</td>\n      <td>1</td>\n      <td>68km SSE of Palu, Indonesia</td>\n      <td>earthquake</td>\n      <td>0.037218</td>\n    </tr>\n    <tr>\n      <th>5244</th>\n      <td>5.7</td>\n      <td>1</td>\n      <td>17km NNE of Palu, Indonesia</td>\n      <td>earthquake</td>\n      <td>0.040797</td>\n    </tr>\n    <tr>\n      <th>5245</th>\n      <td>5.1</td>\n      <td>1</td>\n      <td>42km N of Palu, Indonesia</td>\n      <td>earthquake</td>\n      <td>0.036502</td>\n    </tr>\n    <tr>\n      <th>5250</th>\n      <td>5.4</td>\n      <td>1</td>\n      <td>24km N of Palu, Indonesia</td>\n      <td>earthquake</td>\n      <td>0.038649</td>\n    </tr>\n    <tr>\n      <th>5256</th>\n      <td>5.8</td>\n      <td>1</td>\n      <td>21km SSE of Palu, Indonesia</td>\n      <td>earthquake</td>\n      <td>0.041512</td>\n    </tr>\n    <tr>\n      <th>5258</th>\n      <td>5.7</td>\n      <td>1</td>\n      <td>17km E of Palu, Indonesia</td>\n      <td>earthquake</td>\n      <td>0.040797</td>\n    </tr>\n    <tr>\n      <th>5259</th>\n      <td>5.8</td>\n      <td>1</td>\n      <td>99km N of Palu, Indonesia</td>\n      <td>earthquake</td>\n      <td>0.041512</td>\n    </tr>\n    <tr>\n      <th>5263</th>\n      <td>7.5</td>\n      <td>1</td>\n      <td>78km N of Palu, Indonesia</td>\n      <td>earthquake</td>\n      <td>0.053680</td>\n    </tr>\n    <tr>\n      <th>5289</th>\n      <td>5.0</td>\n      <td>1</td>\n      <td>60km N of Palu, Indonesia</td>\n      <td>earthquake</td>\n      <td>0.035787</td>\n    </tr>\n    <tr>\n      <th>5321</th>\n      <td>5.4</td>\n      <td>1</td>\n      <td>77km NNE of Palu, Indonesia</td>\n      <td>earthquake</td>\n      <td>0.038649</td>\n    </tr>\n    <tr>\n      <th>5323</th>\n      <td>6.1</td>\n      <td>1</td>\n      <td>55km NNW of Palu, Indonesia</td>\n      <td>earthquake</td>\n      <td>0.043660</td>\n    </tr>\n    <tr>\n      <th>5790</th>\n      <td>5.1</td>\n      <td>1</td>\n      <td>117km N of Saumlaki, Indonesia</td>\n      <td>earthquake</td>\n      <td>0.036502</td>\n    </tr>\n    <tr>\n      <th>6004</th>\n      <td>5.1</td>\n      <td>1</td>\n      <td>19km WNW of Langsa, Indonesia</td>\n      <td>earthquake</td>\n      <td>0.036502</td>\n    </tr>\n    <tr>\n      <th>6134</th>\n      <td>5.0</td>\n      <td>1</td>\n      <td>85km W of Manokwari, Indonesia</td>\n      <td>earthquake</td>\n      <td>0.035787</td>\n    </tr>\n  </tbody>\n</table>\n</div>"
     },
     "execution_count": 52,
     "metadata": {},
     "output_type": "execute_result"
    }
   ],
   "source": [
    "#select required data, and assign them to a new indonesia dataframe\n",
    "dfi = (df.loc[(df.place.str.contains(r'Indonesia')) & (df.tsunami == 1),\n",
    "        ['mag', 'tsunami','place', 'type']])\n",
    "#calculate the percentage\n",
    "dfi['percentage'] = (dfi['mag'] / df['mag'].sum()) * 100\n",
    "dfi"
   ],
   "metadata": {
    "collapsed": false,
    "pycharm": {
     "name": "#%%\n"
    }
   }
  },
  {
   "cell_type": "markdown",
   "source": [
    "##### 3. Get summary statistics for earthquakes in Nevada."
   ],
   "metadata": {
    "collapsed": false,
    "pycharm": {
     "name": "#%% md\n"
    }
   }
  },
  {
   "cell_type": "code",
   "execution_count": 54,
   "outputs": [
    {
     "data": {
      "text/plain": "             cdi        dmin       felt         gap         mag   mmi  \\\ncount  15.000000  677.000000  15.000000  677.000000  677.000000  1.00   \nmean    2.440000    0.166982   2.400000  154.029527    0.491728  2.84   \nstd     0.501142    0.166400   4.626013   68.769713    0.689560   NaN   \nmin     2.000000    0.001000   1.000000   29.140000   -0.500000  2.84   \n25%     2.000000    0.054000   1.000000   97.670000   -0.100000  2.84   \n50%     2.200000    0.113000   1.000000  149.550000    0.400000  2.84   \n75%     2.900000    0.234000   1.000000  200.470000    0.900000  2.84   \nmax     3.300000    1.414000  19.000000  355.910000    2.900000  2.84   \n\n              nst         rms         sig          time  tsunami     tz  \\\ncount  677.000000  677.000000  677.000000  6.770000e+02    677.0  677.0   \nmean    12.608567    0.151909   10.688331  1.538314e+12      0.0 -480.0   \nstd      9.890620    0.084742   19.252727  5.954070e+08      0.0    0.0   \nmin      3.000000    0.000500    0.000000  1.537247e+12      0.0 -480.0   \n25%      6.000000    0.106900    0.000000  1.537854e+12      0.0 -480.0   \n50%      9.000000    0.146300    2.000000  1.538280e+12      0.0 -480.0   \n75%     16.000000    0.186700   12.000000  1.538821e+12      0.0 -480.0   \nmax     61.000000    0.863400  129.000000  1.539461e+12      0.0 -480.0   \n\n            updated  \ncount  6.770000e+02  \nmean   1.538402e+12  \nstd    6.000267e+08  \nmin    1.537307e+12  \n25%    1.537928e+12  \n50%    1.538428e+12  \n75%    1.538878e+12  \nmax    1.539483e+12  ",
      "text/html": "<div>\n<style scoped>\n    .dataframe tbody tr th:only-of-type {\n        vertical-align: middle;\n    }\n\n    .dataframe tbody tr th {\n        vertical-align: top;\n    }\n\n    .dataframe thead th {\n        text-align: right;\n    }\n</style>\n<table border=\"1\" class=\"dataframe\">\n  <thead>\n    <tr style=\"text-align: right;\">\n      <th></th>\n      <th>cdi</th>\n      <th>dmin</th>\n      <th>felt</th>\n      <th>gap</th>\n      <th>mag</th>\n      <th>mmi</th>\n      <th>nst</th>\n      <th>rms</th>\n      <th>sig</th>\n      <th>time</th>\n      <th>tsunami</th>\n      <th>tz</th>\n      <th>updated</th>\n    </tr>\n  </thead>\n  <tbody>\n    <tr>\n      <th>count</th>\n      <td>15.000000</td>\n      <td>677.000000</td>\n      <td>15.000000</td>\n      <td>677.000000</td>\n      <td>677.000000</td>\n      <td>1.00</td>\n      <td>677.000000</td>\n      <td>677.000000</td>\n      <td>677.000000</td>\n      <td>6.770000e+02</td>\n      <td>677.0</td>\n      <td>677.0</td>\n      <td>6.770000e+02</td>\n    </tr>\n    <tr>\n      <th>mean</th>\n      <td>2.440000</td>\n      <td>0.166982</td>\n      <td>2.400000</td>\n      <td>154.029527</td>\n      <td>0.491728</td>\n      <td>2.84</td>\n      <td>12.608567</td>\n      <td>0.151909</td>\n      <td>10.688331</td>\n      <td>1.538314e+12</td>\n      <td>0.0</td>\n      <td>-480.0</td>\n      <td>1.538402e+12</td>\n    </tr>\n    <tr>\n      <th>std</th>\n      <td>0.501142</td>\n      <td>0.166400</td>\n      <td>4.626013</td>\n      <td>68.769713</td>\n      <td>0.689560</td>\n      <td>NaN</td>\n      <td>9.890620</td>\n      <td>0.084742</td>\n      <td>19.252727</td>\n      <td>5.954070e+08</td>\n      <td>0.0</td>\n      <td>0.0</td>\n      <td>6.000267e+08</td>\n    </tr>\n    <tr>\n      <th>min</th>\n      <td>2.000000</td>\n      <td>0.001000</td>\n      <td>1.000000</td>\n      <td>29.140000</td>\n      <td>-0.500000</td>\n      <td>2.84</td>\n      <td>3.000000</td>\n      <td>0.000500</td>\n      <td>0.000000</td>\n      <td>1.537247e+12</td>\n      <td>0.0</td>\n      <td>-480.0</td>\n      <td>1.537307e+12</td>\n    </tr>\n    <tr>\n      <th>25%</th>\n      <td>2.000000</td>\n      <td>0.054000</td>\n      <td>1.000000</td>\n      <td>97.670000</td>\n      <td>-0.100000</td>\n      <td>2.84</td>\n      <td>6.000000</td>\n      <td>0.106900</td>\n      <td>0.000000</td>\n      <td>1.537854e+12</td>\n      <td>0.0</td>\n      <td>-480.0</td>\n      <td>1.537928e+12</td>\n    </tr>\n    <tr>\n      <th>50%</th>\n      <td>2.200000</td>\n      <td>0.113000</td>\n      <td>1.000000</td>\n      <td>149.550000</td>\n      <td>0.400000</td>\n      <td>2.84</td>\n      <td>9.000000</td>\n      <td>0.146300</td>\n      <td>2.000000</td>\n      <td>1.538280e+12</td>\n      <td>0.0</td>\n      <td>-480.0</td>\n      <td>1.538428e+12</td>\n    </tr>\n    <tr>\n      <th>75%</th>\n      <td>2.900000</td>\n      <td>0.234000</td>\n      <td>1.000000</td>\n      <td>200.470000</td>\n      <td>0.900000</td>\n      <td>2.84</td>\n      <td>16.000000</td>\n      <td>0.186700</td>\n      <td>12.000000</td>\n      <td>1.538821e+12</td>\n      <td>0.0</td>\n      <td>-480.0</td>\n      <td>1.538878e+12</td>\n    </tr>\n    <tr>\n      <th>max</th>\n      <td>3.300000</td>\n      <td>1.414000</td>\n      <td>19.000000</td>\n      <td>355.910000</td>\n      <td>2.900000</td>\n      <td>2.84</td>\n      <td>61.000000</td>\n      <td>0.863400</td>\n      <td>129.000000</td>\n      <td>1.539461e+12</td>\n      <td>0.0</td>\n      <td>-480.0</td>\n      <td>1.539483e+12</td>\n    </tr>\n  </tbody>\n</table>\n</div>"
     },
     "execution_count": 54,
     "metadata": {},
     "output_type": "execute_result"
    }
   ],
   "source": [
    "##select required data, and assign them to a new Nevada dataframe\n",
    "dfn = df.loc[(df.place.str.contains('Nevada'))]\n",
    "#Get the summary statistic of the new df\n",
    "dfn.describe()"
   ],
   "metadata": {
    "collapsed": false,
    "pycharm": {
     "name": "#%%\n"
    }
   }
  },
  {
   "cell_type": "markdown",
   "source": [
    "##### 4. Add a column to the dataframe indicating whether or not the earthquake happened in a country or US state that is on the Ring of Fire. Use Bolivia,Chile, Ecuador, Peru, Costa Rica, Guatemala, Mexico (be careful not to select New Mexico), Japan, Philippines, Indonesia, New Zealand, Antarctica (look for Antarctic), Canada, Fiji, Alaska, Washington, California, Russia, Taiwan, Tonga, and Kermadec Islands."
   ],
   "metadata": {
    "collapsed": false,
    "pycharm": {
     "name": "#%% md\n"
    }
   }
  },
  {
   "cell_type": "code",
   "execution_count": 60,
   "outputs": [
    {
     "data": {
      "text/plain": "     alert  cdi        code  \\\n0      NaN  NaN    37389218   \n1      NaN  NaN    37389202   \n2      NaN  4.4    37389194   \n3      NaN  NaN    37389186   \n4      NaN  NaN    73096941   \n...    ...  ...         ...   \n9327   NaN  NaN    73086771   \n9328   NaN  NaN    38063967   \n9329   NaN  NaN  2018261000   \n9330   NaN  NaN    38063959   \n9331   NaN  NaN    38063935   \n\n                                                 detail      dmin  felt  \\\n0     https://earthquake.usgs.gov/fdsnws/event/1/que...  0.008693   NaN   \n1     https://earthquake.usgs.gov/fdsnws/event/1/que...  0.020030   NaN   \n2     https://earthquake.usgs.gov/fdsnws/event/1/que...  0.021370  28.0   \n3     https://earthquake.usgs.gov/fdsnws/event/1/que...  0.026180   NaN   \n4     https://earthquake.usgs.gov/fdsnws/event/1/que...  0.077990   NaN   \n...                                                 ...       ...   ...   \n9327  https://earthquake.usgs.gov/fdsnws/event/1/que...  0.018060   NaN   \n9328  https://earthquake.usgs.gov/fdsnws/event/1/que...  0.030410   NaN   \n9329  https://earthquake.usgs.gov/fdsnws/event/1/que...  0.452600   NaN   \n9330  https://earthquake.usgs.gov/fdsnws/event/1/que...  0.018650   NaN   \n9331  https://earthquake.usgs.gov/fdsnws/event/1/que...  0.016980   NaN   \n\n        gap             ids   mag magType  ...  \\\n0      85.0    ,ci37389218,  1.35      ml  ...   \n1      79.0    ,ci37389202,  1.29      ml  ...   \n2      21.0    ,ci37389194,  3.42      ml  ...   \n3      39.0    ,ci37389186,  0.44      ml  ...   \n4     192.0    ,nc73096941,  2.16      md  ...   \n...     ...             ...   ...     ...  ...   \n9327  185.0    ,nc73086771,  0.62      md  ...   \n9328   50.0    ,ci38063967,  1.00      ml  ...   \n9329  276.0  ,pr2018261000,  2.40      md  ...   \n9330   61.0    ,ci38063959,  1.10      ml  ...   \n9331   39.0    ,ci38063935,  0.66      ml  ...   \n\n                                         title tsunami        type  \\\n0                M 1.4 - 9km NE of Aguanga, CA       0  earthquake   \n1                M 1.3 - 9km NE of Aguanga, CA       0  earthquake   \n2                M 3.4 - 8km NE of Aguanga, CA       0  earthquake   \n3                M 0.4 - 9km NE of Aguanga, CA       0  earthquake   \n4                M 2.2 - 10km NW of Avenal, CA       0  earthquake   \n...                                        ...     ...         ...   \n9327      M 0.6 - 9km ENE of Mammoth Lakes, CA       0  earthquake   \n9328               M 1.0 - 3km W of Julian, CA       0  earthquake   \n9329  M 2.4 - 35km NNE of Hatillo, Puerto Rico       0  earthquake   \n9330             M 1.1 - 9km NE of Aguanga, CA       0  earthquake   \n9331             M 0.7 - 9km NE of Aguanga, CA       0  earthquake   \n\n                                                  types     tz        updated  \\\n0            ,geoserve,nearby-cities,origin,phase-data, -480.0  1539475395144   \n1            ,geoserve,nearby-cities,origin,phase-data, -480.0  1539475253925   \n2     ,dyfi,focal-mechanism,geoserve,nearby-cities,o... -480.0  1539536756176   \n3            ,geoserve,nearby-cities,origin,phase-data, -480.0  1539475196167   \n4     ,geoserve,nearby-cities,origin,phase-data,scit... -480.0  1539477547926   \n...                                                 ...    ...            ...   \n9327         ,geoserve,nearby-cities,origin,phase-data, -480.0  1537285598315   \n9328  ,geoserve,nearby-cities,origin,phase-data,scit... -480.0  1537276800970   \n9329                       ,geoserve,origin,phase-data, -240.0  1537243777410   \n9330  ,focal-mechanism,geoserve,nearby-cities,origin... -480.0  1537230211640   \n9331  ,focal-mechanism,geoserve,nearby-cities,origin... -480.0  1537305830770   \n\n                                                    url parsed_place  in_rang  \\\n0     https://earthquake.usgs.gov/earthquakes/eventp...   California    False   \n1     https://earthquake.usgs.gov/earthquakes/eventp...   California    False   \n2     https://earthquake.usgs.gov/earthquakes/eventp...   California    False   \n3     https://earthquake.usgs.gov/earthquakes/eventp...   California    False   \n4     https://earthquake.usgs.gov/earthquakes/eventp...   California    False   \n...                                                 ...          ...      ...   \n9327  https://earthquake.usgs.gov/earthquakes/eventp...   California    False   \n9328  https://earthquake.usgs.gov/earthquakes/eventp...   California    False   \n9329  https://earthquake.usgs.gov/earthquakes/eventp...  Puerto Rico     True   \n9330  https://earthquake.usgs.gov/earthquakes/eventp...   California    False   \n9331  https://earthquake.usgs.gov/earthquakes/eventp...   California    False   \n\n     in_ring_of_fire  \n0              False  \n1              False  \n2              False  \n3              False  \n4              False  \n...              ...  \n9327           False  \n9328           False  \n9329            True  \n9330           False  \n9331           False  \n\n[9332 rows x 29 columns]",
      "text/html": "<div>\n<style scoped>\n    .dataframe tbody tr th:only-of-type {\n        vertical-align: middle;\n    }\n\n    .dataframe tbody tr th {\n        vertical-align: top;\n    }\n\n    .dataframe thead th {\n        text-align: right;\n    }\n</style>\n<table border=\"1\" class=\"dataframe\">\n  <thead>\n    <tr style=\"text-align: right;\">\n      <th></th>\n      <th>alert</th>\n      <th>cdi</th>\n      <th>code</th>\n      <th>detail</th>\n      <th>dmin</th>\n      <th>felt</th>\n      <th>gap</th>\n      <th>ids</th>\n      <th>mag</th>\n      <th>magType</th>\n      <th>...</th>\n      <th>title</th>\n      <th>tsunami</th>\n      <th>type</th>\n      <th>types</th>\n      <th>tz</th>\n      <th>updated</th>\n      <th>url</th>\n      <th>parsed_place</th>\n      <th>in_rang</th>\n      <th>in_ring_of_fire</th>\n    </tr>\n  </thead>\n  <tbody>\n    <tr>\n      <th>0</th>\n      <td>NaN</td>\n      <td>NaN</td>\n      <td>37389218</td>\n      <td>https://earthquake.usgs.gov/fdsnws/event/1/que...</td>\n      <td>0.008693</td>\n      <td>NaN</td>\n      <td>85.0</td>\n      <td>,ci37389218,</td>\n      <td>1.35</td>\n      <td>ml</td>\n      <td>...</td>\n      <td>M 1.4 - 9km NE of Aguanga, CA</td>\n      <td>0</td>\n      <td>earthquake</td>\n      <td>,geoserve,nearby-cities,origin,phase-data,</td>\n      <td>-480.0</td>\n      <td>1539475395144</td>\n      <td>https://earthquake.usgs.gov/earthquakes/eventp...</td>\n      <td>California</td>\n      <td>False</td>\n      <td>False</td>\n    </tr>\n    <tr>\n      <th>1</th>\n      <td>NaN</td>\n      <td>NaN</td>\n      <td>37389202</td>\n      <td>https://earthquake.usgs.gov/fdsnws/event/1/que...</td>\n      <td>0.020030</td>\n      <td>NaN</td>\n      <td>79.0</td>\n      <td>,ci37389202,</td>\n      <td>1.29</td>\n      <td>ml</td>\n      <td>...</td>\n      <td>M 1.3 - 9km NE of Aguanga, CA</td>\n      <td>0</td>\n      <td>earthquake</td>\n      <td>,geoserve,nearby-cities,origin,phase-data,</td>\n      <td>-480.0</td>\n      <td>1539475253925</td>\n      <td>https://earthquake.usgs.gov/earthquakes/eventp...</td>\n      <td>California</td>\n      <td>False</td>\n      <td>False</td>\n    </tr>\n    <tr>\n      <th>2</th>\n      <td>NaN</td>\n      <td>4.4</td>\n      <td>37389194</td>\n      <td>https://earthquake.usgs.gov/fdsnws/event/1/que...</td>\n      <td>0.021370</td>\n      <td>28.0</td>\n      <td>21.0</td>\n      <td>,ci37389194,</td>\n      <td>3.42</td>\n      <td>ml</td>\n      <td>...</td>\n      <td>M 3.4 - 8km NE of Aguanga, CA</td>\n      <td>0</td>\n      <td>earthquake</td>\n      <td>,dyfi,focal-mechanism,geoserve,nearby-cities,o...</td>\n      <td>-480.0</td>\n      <td>1539536756176</td>\n      <td>https://earthquake.usgs.gov/earthquakes/eventp...</td>\n      <td>California</td>\n      <td>False</td>\n      <td>False</td>\n    </tr>\n    <tr>\n      <th>3</th>\n      <td>NaN</td>\n      <td>NaN</td>\n      <td>37389186</td>\n      <td>https://earthquake.usgs.gov/fdsnws/event/1/que...</td>\n      <td>0.026180</td>\n      <td>NaN</td>\n      <td>39.0</td>\n      <td>,ci37389186,</td>\n      <td>0.44</td>\n      <td>ml</td>\n      <td>...</td>\n      <td>M 0.4 - 9km NE of Aguanga, CA</td>\n      <td>0</td>\n      <td>earthquake</td>\n      <td>,geoserve,nearby-cities,origin,phase-data,</td>\n      <td>-480.0</td>\n      <td>1539475196167</td>\n      <td>https://earthquake.usgs.gov/earthquakes/eventp...</td>\n      <td>California</td>\n      <td>False</td>\n      <td>False</td>\n    </tr>\n    <tr>\n      <th>4</th>\n      <td>NaN</td>\n      <td>NaN</td>\n      <td>73096941</td>\n      <td>https://earthquake.usgs.gov/fdsnws/event/1/que...</td>\n      <td>0.077990</td>\n      <td>NaN</td>\n      <td>192.0</td>\n      <td>,nc73096941,</td>\n      <td>2.16</td>\n      <td>md</td>\n      <td>...</td>\n      <td>M 2.2 - 10km NW of Avenal, CA</td>\n      <td>0</td>\n      <td>earthquake</td>\n      <td>,geoserve,nearby-cities,origin,phase-data,scit...</td>\n      <td>-480.0</td>\n      <td>1539477547926</td>\n      <td>https://earthquake.usgs.gov/earthquakes/eventp...</td>\n      <td>California</td>\n      <td>False</td>\n      <td>False</td>\n    </tr>\n    <tr>\n      <th>...</th>\n      <td>...</td>\n      <td>...</td>\n      <td>...</td>\n      <td>...</td>\n      <td>...</td>\n      <td>...</td>\n      <td>...</td>\n      <td>...</td>\n      <td>...</td>\n      <td>...</td>\n      <td>...</td>\n      <td>...</td>\n      <td>...</td>\n      <td>...</td>\n      <td>...</td>\n      <td>...</td>\n      <td>...</td>\n      <td>...</td>\n      <td>...</td>\n      <td>...</td>\n      <td>...</td>\n    </tr>\n    <tr>\n      <th>9327</th>\n      <td>NaN</td>\n      <td>NaN</td>\n      <td>73086771</td>\n      <td>https://earthquake.usgs.gov/fdsnws/event/1/que...</td>\n      <td>0.018060</td>\n      <td>NaN</td>\n      <td>185.0</td>\n      <td>,nc73086771,</td>\n      <td>0.62</td>\n      <td>md</td>\n      <td>...</td>\n      <td>M 0.6 - 9km ENE of Mammoth Lakes, CA</td>\n      <td>0</td>\n      <td>earthquake</td>\n      <td>,geoserve,nearby-cities,origin,phase-data,</td>\n      <td>-480.0</td>\n      <td>1537285598315</td>\n      <td>https://earthquake.usgs.gov/earthquakes/eventp...</td>\n      <td>California</td>\n      <td>False</td>\n      <td>False</td>\n    </tr>\n    <tr>\n      <th>9328</th>\n      <td>NaN</td>\n      <td>NaN</td>\n      <td>38063967</td>\n      <td>https://earthquake.usgs.gov/fdsnws/event/1/que...</td>\n      <td>0.030410</td>\n      <td>NaN</td>\n      <td>50.0</td>\n      <td>,ci38063967,</td>\n      <td>1.00</td>\n      <td>ml</td>\n      <td>...</td>\n      <td>M 1.0 - 3km W of Julian, CA</td>\n      <td>0</td>\n      <td>earthquake</td>\n      <td>,geoserve,nearby-cities,origin,phase-data,scit...</td>\n      <td>-480.0</td>\n      <td>1537276800970</td>\n      <td>https://earthquake.usgs.gov/earthquakes/eventp...</td>\n      <td>California</td>\n      <td>False</td>\n      <td>False</td>\n    </tr>\n    <tr>\n      <th>9329</th>\n      <td>NaN</td>\n      <td>NaN</td>\n      <td>2018261000</td>\n      <td>https://earthquake.usgs.gov/fdsnws/event/1/que...</td>\n      <td>0.452600</td>\n      <td>NaN</td>\n      <td>276.0</td>\n      <td>,pr2018261000,</td>\n      <td>2.40</td>\n      <td>md</td>\n      <td>...</td>\n      <td>M 2.4 - 35km NNE of Hatillo, Puerto Rico</td>\n      <td>0</td>\n      <td>earthquake</td>\n      <td>,geoserve,origin,phase-data,</td>\n      <td>-240.0</td>\n      <td>1537243777410</td>\n      <td>https://earthquake.usgs.gov/earthquakes/eventp...</td>\n      <td>Puerto Rico</td>\n      <td>True</td>\n      <td>True</td>\n    </tr>\n    <tr>\n      <th>9330</th>\n      <td>NaN</td>\n      <td>NaN</td>\n      <td>38063959</td>\n      <td>https://earthquake.usgs.gov/fdsnws/event/1/que...</td>\n      <td>0.018650</td>\n      <td>NaN</td>\n      <td>61.0</td>\n      <td>,ci38063959,</td>\n      <td>1.10</td>\n      <td>ml</td>\n      <td>...</td>\n      <td>M 1.1 - 9km NE of Aguanga, CA</td>\n      <td>0</td>\n      <td>earthquake</td>\n      <td>,focal-mechanism,geoserve,nearby-cities,origin...</td>\n      <td>-480.0</td>\n      <td>1537230211640</td>\n      <td>https://earthquake.usgs.gov/earthquakes/eventp...</td>\n      <td>California</td>\n      <td>False</td>\n      <td>False</td>\n    </tr>\n    <tr>\n      <th>9331</th>\n      <td>NaN</td>\n      <td>NaN</td>\n      <td>38063935</td>\n      <td>https://earthquake.usgs.gov/fdsnws/event/1/que...</td>\n      <td>0.016980</td>\n      <td>NaN</td>\n      <td>39.0</td>\n      <td>,ci38063935,</td>\n      <td>0.66</td>\n      <td>ml</td>\n      <td>...</td>\n      <td>M 0.7 - 9km NE of Aguanga, CA</td>\n      <td>0</td>\n      <td>earthquake</td>\n      <td>,focal-mechanism,geoserve,nearby-cities,origin...</td>\n      <td>-480.0</td>\n      <td>1537305830770</td>\n      <td>https://earthquake.usgs.gov/earthquakes/eventp...</td>\n      <td>California</td>\n      <td>False</td>\n      <td>False</td>\n    </tr>\n  </tbody>\n</table>\n<p>9332 rows × 29 columns</p>\n</div>"
     },
     "execution_count": 60,
     "metadata": {},
     "output_type": "execute_result"
    }
   ],
   "source": [
    "df['in_ring_of_fire'] = ((~df.place.str.contains('New Mexico|Japan|Philippines|Indonesia|New Zealand|Antarctica|Antarctic|Canada,|Fiji|Alaska|Washington|California|Russia|Taiwan|Tonga|Kermadec Islands|CA')) & (df.type.str.contains('earthquake')))\n",
    "df"
   ],
   "metadata": {
    "collapsed": false,
    "pycharm": {
     "name": "#%%\n"
    }
   }
  },
  {
   "cell_type": "markdown",
   "source": [
    "##### 5. Calculate the number of earthquakes in the Ring of Fire locations and the number outside them."
   ],
   "metadata": {
    "collapsed": false,
    "pycharm": {
     "name": "#%% md\n"
    }
   }
  },
  {
   "cell_type": "code",
   "execution_count": 61,
   "outputs": [
    {
     "name": "stdout",
     "output_type": "stream",
     "text": [
      "1. The number of earthquakes in the Ring of Fire locations is:  2210\n",
      "2. The number outside them is:  7122\n"
     ]
    }
   ],
   "source": [
    "#Get count of True values in the new created column and print the result\n",
    "count1 = df['in_ring_of_fire'].value_counts()[True]\n",
    "count2 = df['in_ring_of_fire'].value_counts()[False]\n",
    "print('1. The number of earthquakes in the Ring of Fire locations is: ', count1)\n",
    "print('2. The number outside them is: ', count2)"
   ],
   "metadata": {
    "collapsed": false,
    "pycharm": {
     "name": "#%%\n"
    }
   }
  },
  {
   "cell_type": "markdown",
   "source": [
    "##### 6. Find the tsunami count along the Ring of Fire."
   ],
   "metadata": {
    "collapsed": false,
    "pycharm": {
     "name": "#%% md\n"
    }
   }
  },
  {
   "cell_type": "code",
   "execution_count": 62,
   "outputs": [
    {
     "name": "stdout",
     "output_type": "stream",
     "text": [
      "0       False\n",
      "1       False\n",
      "2       False\n",
      "3       False\n",
      "4       False\n",
      "        ...  \n",
      "9327    False\n",
      "9328    False\n",
      "9329    False\n",
      "9330    False\n",
      "9331    False\n",
      "Name: tsunami, Length: 9332, dtype: bool\n"
     ]
    }
   ],
   "source": [
    "tsumani = df[df.tsunami==1]\n",
    "count3 = ((df['in_ring_of_fire'].value_counts()[True]) & (df.tsunami == 1))\n",
    "print(count3)"
   ],
   "metadata": {
    "collapsed": false,
    "pycharm": {
     "name": "#%%\n"
    }
   }
  },
  {
   "cell_type": "code",
   "execution_count": null,
   "outputs": [],
   "source": [],
   "metadata": {
    "collapsed": false,
    "pycharm": {
     "name": "#%%\n"
    }
   }
  }
 ],
 "metadata": {
  "kernelspec": {
   "display_name": "Python 3",
   "language": "python",
   "name": "python3"
  },
  "language_info": {
   "codemirror_mode": {
    "name": "ipython",
    "version": 2
   },
   "file_extension": ".py",
   "mimetype": "text/x-python",
   "name": "python",
   "nbconvert_exporter": "python",
   "pygments_lexer": "ipython2",
   "version": "2.7.6"
  }
 },
 "nbformat": 4,
 "nbformat_minor": 0
}