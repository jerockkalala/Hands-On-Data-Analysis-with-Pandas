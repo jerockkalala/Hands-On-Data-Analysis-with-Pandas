{
 "cells": [
  {
   "cell_type": "markdown",
   "source": [
    "### Title: Exercice 11.2\n",
    "### Author: Jerock Kalala\n",
    "### Date: November 14 2022\n",
    "### Professor: David Kinney\n",
    "### Working with databases"
   ],
   "metadata": {
    "collapsed": false,
    "pycharm": {
     "name": "#%% md\n"
    }
   }
  },
  {
   "cell_type": "markdown",
   "source": [
    "##### 1. Import sqlite3 and create a cursor"
   ],
   "metadata": {
    "collapsed": false,
    "pycharm": {
     "name": "#%% md\n"
    }
   }
  },
  {
   "cell_type": "code",
   "execution_count": 51,
   "outputs": [],
   "source": [
    "#Import sqlite3 and create a cursor\n",
    "import statsmodels.api as sm\n",
    "from pandas.io.sql import read_sql\n",
    "import sqlite3\n",
    "\n",
    "with sqlite3.connect(\":memory:\") as con:\n",
    "    c = con.cursor()"
   ],
   "metadata": {
    "collapsed": false,
    "pycharm": {
     "name": "#%%\n"
    }
   }
  },
  {
   "cell_type": "markdown",
   "source": [
    "Create the sensors table"
   ],
   "metadata": {
    "collapsed": false,
    "pycharm": {
     "name": "#%% md\n"
    }
   }
  },
  {
   "cell_type": "code",
   "execution_count": 52,
   "outputs": [
    {
     "data": {
      "text/plain": "<sqlite3.Cursor at 0x1dee4c1c4c0>"
     },
     "execution_count": 52,
     "metadata": {},
     "output_type": "execute_result"
    }
   ],
   "source": [
    "c.execute('''CREATE TABLE sensors(date text, city text, code text, sensor_id real, temperature real)''')"
   ],
   "metadata": {
    "collapsed": false,
    "pycharm": {
     "name": "#%%\n"
    }
   }
  },
  {
   "cell_type": "markdown",
   "source": [
    "Write a query to confirm your table was created – print the results"
   ],
   "metadata": {
    "collapsed": false,
    "pycharm": {
     "name": "#%% md\n"
    }
   }
  },
  {
   "cell_type": "code",
   "execution_count": 53,
   "outputs": [
    {
     "name": "stdout",
     "output_type": "stream",
     "text": [
      "Table sensors\n"
     ]
    }
   ],
   "source": [
    "#Write a query to confirm your table was created – print the results\n",
    "for table in c.execute(\"SELECT name FROM sqlite_master WHERE type = 'table'\"):\n",
    "    print(\"Table\", table[0])"
   ],
   "metadata": {
    "collapsed": false,
    "pycharm": {
     "name": "#%%\n"
    }
   }
  },
  {
   "cell_type": "markdown",
   "source": [
    "Insert random data into the table you created and then select all the results from the table (Select *)"
   ],
   "metadata": {
    "collapsed": false,
    "pycharm": {
     "name": "#%% md\n"
    }
   }
  },
  {
   "cell_type": "code",
   "execution_count": 54,
   "outputs": [
    {
     "name": "stdout",
     "output_type": "stream",
     "text": [
      "('2016-02-18', 'Kinshasa', 'Pink', 243.0, 36.11)\n"
     ]
    }
   ],
   "source": [
    "#Insert random data into the table you created and then select all the results from the table (Select *)\n",
    "c.execute(\"INSERT INTO sensors VALUES ('2016-02-18', 'Kinshasa', 'Pink', '243', '36.11')\")\n",
    "c.execute(\"SELECT * FROM sensors\")\n",
    "print(c.fetchone())"
   ],
   "metadata": {
    "collapsed": false,
    "pycharm": {
     "name": "#%%\n"
    }
   }
  },
  {
   "cell_type": "markdown",
   "source": [
    "Drop the table and confirm it has been dropped based on your previous query"
   ],
   "metadata": {
    "collapsed": false,
    "pycharm": {
     "name": "#%% md\n"
    }
   }
  },
  {
   "cell_type": "code",
   "execution_count": 55,
   "outputs": [
    {
     "name": "stdout",
     "output_type": "stream",
     "text": [
      "# of tables 0\n"
     ]
    }
   ],
   "source": [
    "#Drop the table and confirm it has been dropped based on your previous query\n",
    "con.execute(\"DROP TABLE sensors\")\n",
    "print(\"# of tables\", c.execute(\"SELECT COUNT(*) FROM sqlite_master WHERE type = 'table'\").fetchone()[0])"
   ],
   "metadata": {
    "collapsed": false,
    "pycharm": {
     "name": "#%%\n"
    }
   }
  },
  {
   "cell_type": "markdown",
   "source": [
    "Close your connection"
   ],
   "metadata": {
    "collapsed": false,
    "pycharm": {
     "name": "#%% md\n"
    }
   }
  },
  {
   "cell_type": "code",
   "execution_count": 56,
   "outputs": [],
   "source": [
    "#Close your connection\n",
    "c.close()"
   ],
   "metadata": {
    "collapsed": false,
    "pycharm": {
     "name": "#%%\n"
    }
   }
  },
  {
   "cell_type": "markdown",
   "source": [
    "#### <font color='green'>  2. Create a list of tuples to form the pandas DataFrame </font>"
   ],
   "metadata": {
    "collapsed": false,
    "pycharm": {
     "name": "#%% md\n"
    }
   }
  },
  {
   "cell_type": "code",
   "execution_count": 71,
   "outputs": [],
   "source": [
    "#Create a list of tuples to form the pandas DataFrame\n",
    "data_loader = sm.datasets.sunspots.load_pandas()\n",
    "df = data_loader.data\n",
    "rows = [tuple(x) for x in df.values]\n",
    "c = con.cursor()"
   ],
   "metadata": {
    "collapsed": false,
    "pycharm": {
     "name": "#%%\n"
    }
   }
  },
  {
   "cell_type": "markdown",
   "source": [
    "Create a table without specifying data types"
   ],
   "metadata": {
    "collapsed": false,
    "pycharm": {
     "name": "#%% md\n"
    }
   }
  },
  {
   "cell_type": "markdown",
   "source": [],
   "metadata": {
    "collapsed": false,
    "pycharm": {
     "name": "#%% md\n"
    }
   }
  },
  {
   "cell_type": "code",
   "execution_count": 75,
   "outputs": [
    {
     "data": {
      "text/plain": "<sqlite3.Cursor at 0x1dee4d777c0>"
     },
     "execution_count": 75,
     "metadata": {},
     "output_type": "execute_result"
    }
   ],
   "source": [
    "#Create a table without specifying data types\n",
    "con.execute(\"CREATE TABLE sunsp(year, sunactivity)\")"
   ],
   "metadata": {
    "collapsed": false,
    "pycharm": {
     "name": "#%%\n"
    }
   }
  },
  {
   "cell_type": "markdown",
   "source": [
    "Insert records from a list of tuples – insert all the rows into the table and show the row count"
   ],
   "metadata": {
    "collapsed": false,
    "pycharm": {
     "name": "#%% md\n"
    }
   }
  },
  {
   "cell_type": "code",
   "execution_count": 76,
   "outputs": [
    {
     "data": {
      "text/plain": "<sqlite3.Cursor at 0x1dee4d77d40>"
     },
     "execution_count": 76,
     "metadata": {},
     "output_type": "execute_result"
    }
   ],
   "source": [
    "#Insert records from a list of tuples – insert all the rows into the table and show the row count\n",
    "con.executemany(\"INSERT INTO sunsp(year, sunactivity) VALUES (?, ?)\", rows)\n"
   ],
   "metadata": {
    "collapsed": false,
    "pycharm": {
     "name": "#%%\n"
    }
   }
  },
  {
   "cell_type": "code",
   "execution_count": 77,
   "outputs": [
    {
     "name": "stdout",
     "output_type": "stream",
     "text": [
      "(309,)\n"
     ]
    }
   ],
   "source": [
    "c.execute(\"SELECT COUNT(*) FROM sunsp\")\n",
    "print(c.fetchone())"
   ],
   "metadata": {
    "collapsed": false,
    "pycharm": {
     "name": "#%%\n"
    }
   }
  },
  {
   "cell_type": "markdown",
   "source": [
    "Delete the records where the sunactivity is greater than 20"
   ],
   "metadata": {
    "collapsed": false,
    "pycharm": {
     "name": "#%% md\n"
    }
   }
  },
  {
   "cell_type": "code",
   "execution_count": 93,
   "outputs": [
    {
     "name": "stdout",
     "output_type": "stream",
     "text": [
      "Deleted 217 rows\n"
     ]
    }
   ],
   "source": [
    "#Delete the records where the sunactivity is greater than 20\n",
    "print(\"Deleted\", con.execute(\"DELETE FROM sunsp where sunactivity >20\").rowcount, \"rows\")"
   ],
   "metadata": {
    "collapsed": false,
    "pycharm": {
     "name": "#%%\n"
    }
   }
  },
  {
   "cell_type": "markdown",
   "source": [
    "Write a query to select all data where the year is less than 1732"
   ],
   "metadata": {
    "collapsed": false,
    "pycharm": {
     "name": "#%% md\n"
    }
   }
  },
  {
   "cell_type": "code",
   "execution_count": 80,
   "outputs": [
    {
     "name": "stdout",
     "output_type": "stream",
     "text": [
      "      year  sunactivity\n",
      "0   1700.0          5.0\n",
      "1   1701.0         11.0\n",
      "2   1702.0         16.0\n",
      "3   1703.0         23.0\n",
      "4   1704.0         36.0\n",
      "5   1705.0         58.0\n",
      "6   1706.0         29.0\n",
      "7   1707.0         20.0\n",
      "8   1708.0         10.0\n",
      "9   1709.0          8.0\n",
      "10  1710.0          3.0\n",
      "11  1711.0          0.0\n",
      "12  1712.0          0.0\n",
      "13  1713.0          2.0\n",
      "14  1714.0         11.0\n",
      "15  1715.0         27.0\n",
      "16  1716.0         47.0\n",
      "17  1717.0         63.0\n",
      "18  1718.0         60.0\n",
      "19  1719.0         39.0\n",
      "20  1720.0         28.0\n",
      "21  1721.0         26.0\n",
      "22  1722.0         22.0\n",
      "23  1723.0         11.0\n",
      "24  1724.0         21.0\n",
      "25  1725.0         40.0\n",
      "26  1726.0         78.0\n",
      "27  1727.0        122.0\n",
      "28  1728.0        103.0\n",
      "29  1729.0         73.0\n",
      "30  1730.0         47.0\n",
      "31  1731.0         35.0\n"
     ]
    }
   ],
   "source": [
    "#Write a query to select all data where the year is less than 1732\n",
    "print(read_sql(\"SELECT * FROM sunsp WHERE year<1732\", con))"
   ],
   "metadata": {
    "collapsed": false,
    "pycharm": {
     "name": "#%%\n"
    }
   }
  },
  {
   "cell_type": "code",
   "execution_count": 82,
   "outputs": [],
   "source": [
    "#Close your connection\n",
    "c.close()"
   ],
   "metadata": {
    "collapsed": false,
    "pycharm": {
     "name": "#%%\n"
    }
   }
  },
  {
   "cell_type": "markdown",
   "source": [
    "##### 3. Install sqlalchemy"
   ],
   "metadata": {
    "collapsed": false,
    "pycharm": {
     "name": "#%% md\n"
    }
   }
  },
  {
   "cell_type": "code",
   "execution_count": 84,
   "outputs": [
    {
     "name": "stdout",
     "output_type": "stream",
     "text": [
      "Run the 'pip3 install sqlalchemy' in terminal\n"
     ]
    }
   ],
   "source": [
    "#Install sqlalchemy\n",
    "print(\"Run the 'pip3 install sqlalchemy' in terminal\")"
   ],
   "metadata": {
    "collapsed": false,
    "pycharm": {
     "name": "#%%\n"
    }
   }
  },
  {
   "cell_type": "markdown",
   "source": [
    "Define the superclass"
   ],
   "metadata": {
    "collapsed": false,
    "pycharm": {
     "name": "#%% md\n"
    }
   }
  },
  {
   "cell_type": "code",
   "execution_count": 85,
   "outputs": [],
   "source": [
    "#Define the superclass\n",
    "from sqlalchemy.ext.declarative import declarative_base\n",
    "Base = declarative_base()"
   ],
   "metadata": {
    "collapsed": false,
    "pycharm": {
     "name": "#%%\n"
    }
   }
  },
  {
   "cell_type": "markdown",
   "source": [
    "Create the DBSession"
   ],
   "metadata": {
    "collapsed": false,
    "pycharm": {
     "name": "#%% md\n"
    }
   }
  },
  {
   "cell_type": "code",
   "execution_count": 86,
   "outputs": [],
   "source": [
    "from sqlalchemy.orm import sessionmaker\n",
    "from sqlalchemy import Column, ForeignKey, Integer, String, Float\n",
    "from sqlalchemy.ext.declarative import declarative_base\n",
    "from sqlalchemy.orm import relationship\n",
    "from sqlalchemy import create_engine\n",
    "from sqlalchemy import UniqueConstraint"
   ],
   "metadata": {
    "collapsed": false,
    "pycharm": {
     "name": "#%%\n"
    }
   }
  },
  {
   "cell_type": "code",
   "execution_count": 95,
   "outputs": [],
   "source": [
    "Base = declarative_base()\n",
    "class Station(Base):\n",
    "    __tablename = 'station'\n",
    "    id = Column(Integer, primary_key=True)\n",
    "    name = Column(String(14), nullable = False, unique = True)\n",
    "\n",
    "    def __repr__(self):\n",
    "        return \"Id=%d name=%d\" %(self.id, self.name)\n",
    "\n",
    "class Sensor(Base):\n",
    "    __tablename__ = 'sensor'\n",
    "    id = Column(Integer, primary_key = True)\n",
    "    last = Column(Integer)\n",
    "    multiplier = Column(Float)\n",
    "    station_id = Column(Integer, ForeignKey('station.id'))\n",
    "    station = relationship(Station)\n",
    "\n",
    "    def __repr__(self):\n",
    "        return \"Id={:d} last={:d} multiplier={:.1f} station_id={:d}\".format(\n",
    "            self.id, self.last, self.multiplier, self.station_id)\n",
    "if __name__ == \"__main__\":\n",
    "    print(\"script use by code further\")\n"
   ],
   "metadata": {
    "collapsed": false,
    "pycharm": {
     "name": "#%%\n"
    }
   }
  },
  {
   "cell_type": "code",
   "execution_count": 87,
   "outputs": [
    {
     "ename": "NameError",
     "evalue": "name 'engine' is not defined",
     "output_type": "error",
     "traceback": [
      "\u001B[1;31m---------------------------------------------------------------------------\u001B[0m",
      "\u001B[1;31mNameError\u001B[0m                                 Traceback (most recent call last)",
      "Cell \u001B[1;32mIn [87], line 2\u001B[0m\n\u001B[0;32m      1\u001B[0m \u001B[38;5;66;03m#Create the DBSession\u001B[39;00m\n\u001B[1;32m----> 2\u001B[0m Base\u001B[38;5;241m.\u001B[39mmetadata\u001B[38;5;241m.\u001B[39mbind \u001B[38;5;241m=\u001B[39m \u001B[43mengine\u001B[49m\n\u001B[0;32m      3\u001B[0m DBSession \u001B[38;5;241m=\u001B[39m sessionmaker(bind\u001B[38;5;241m=\u001B[39mengine)\n\u001B[0;32m      4\u001B[0m session \u001B[38;5;241m=\u001B[39m DBSession()\n",
      "\u001B[1;31mNameError\u001B[0m: name 'engine' is not defined"
     ]
    }
   ],
   "source": [],
   "metadata": {
    "collapsed": false,
    "pycharm": {
     "name": "#%%\n"
    }
   }
  },
  {
   "cell_type": "markdown",
   "source": [
    "Create 2 stations and commit the session"
   ],
   "metadata": {
    "collapsed": false,
    "pycharm": {
     "name": "#%% md\n"
    }
   }
  },
  {
   "cell_type": "code",
   "execution_count": 95,
   "outputs": [],
   "source": [
    "#Create 2 stations and commit the session\n",
    "premier = Station(name = 'premier')\n",
    "session.add(premier)\n",
    "session.add(Station(name= 'Utrecht'))\n",
    "print(\"Station \", premier)"
   ],
   "metadata": {
    "collapsed": false,
    "pycharm": {
     "name": "#%%\n"
    }
   }
  },
  {
   "cell_type": "markdown",
   "source": [
    "o\tInsert a sensor record"
   ],
   "metadata": {
    "collapsed": false,
    "pycharm": {
     "name": "#%% md\n"
    }
   }
  },
  {
   "cell_type": "code",
   "execution_count": null,
   "outputs": [],
   "source": [
    "#Insert a sensor record\n",
    "temp_sensor = Sensor(last = 20, multiplier=.1, station = premier)\n",
    "session.add(temp_sensor)\n",
    "session.commit()\n",
    "print(\"Session\", temp_sensor)"
   ],
   "metadata": {
    "collapsed": false,
    "pycharm": {
     "name": "#%%\n"
    }
   }
  },
  {
   "cell_type": "markdown",
   "source": [
    "##### 4. Create an engine from a URI"
   ],
   "metadata": {
    "collapsed": false,
    "pycharm": {
     "name": "#%% md\n"
    }
   }
  },
  {
   "cell_type": "code",
   "execution_count": 90,
   "outputs": [],
   "source": [
    "#Create an engine from a URI\n",
    "engine = create_engine('sqlite:///demo.db')\n"
   ],
   "metadata": {
    "collapsed": false,
    "pycharm": {
     "name": "#%%\n"
    }
   }
  },
  {
   "cell_type": "markdown",
   "source": [
    "o\tCreate a DBSession object"
   ],
   "metadata": {
    "collapsed": false,
    "pycharm": {
     "name": "#%% md\n"
    }
   }
  },
  {
   "cell_type": "code",
   "execution_count": 91,
   "outputs": [],
   "source": [
    "from sqlalchemy.orm.sync import populate\n",
    "\n",
    "#Create a DBSession object\n",
    "\n",
    "Base.metadata.create_all(engine)\n",
    "populate(engine)\n",
    "Base.metadata.bind = engine\n",
    "DBSession = sessionmaker()\n",
    "DBSession.bind = engine\n",
    "session = DBSession()\n",
    "\n"
   ],
   "metadata": {
    "collapsed": false,
    "pycharm": {
     "name": "#%%\n"
    }
   }
  },
  {
   "cell_type": "markdown",
   "source": [
    "o\tSelect the first row in the station table"
   ],
   "metadata": {
    "collapsed": false,
    "pycharm": {
     "name": "#%% md\n"
    }
   }
  },
  {
   "cell_type": "code",
   "execution_count": null,
   "outputs": [],
   "source": [
    "#Select the first row in the station table\n",
    "\n",
    "station = session.query(Station).first()"
   ],
   "metadata": {
    "collapsed": false,
    "pycharm": {
     "name": "#%%\n"
    }
   }
  },
  {
   "cell_type": "markdown",
   "source": [
    "o\tSelect all the stations"
   ],
   "metadata": {
    "collapsed": false,
    "pycharm": {
     "name": "#%% md\n"
    }
   }
  },
  {
   "cell_type": "code",
   "execution_count": null,
   "outputs": [],
   "source": [
    "#Select all the stations\n",
    "print(\"Query 1\", session.query(Station).all())"
   ],
   "metadata": {
    "collapsed": false,
    "pycharm": {
     "name": "#%%\n"
    }
   }
  },
  {
   "cell_type": "markdown",
   "source": [
    "o\tSelect all the sensors"
   ],
   "metadata": {
    "collapsed": false,
    "pycharm": {
     "name": "#%% md\n"
    }
   }
  },
  {
   "cell_type": "code",
   "execution_count": null,
   "outputs": [],
   "source": [
    "#Select all the sensors\n",
    "print(\"Query 2\", session.query(Sensor).all())"
   ],
   "metadata": {
    "collapsed": false,
    "pycharm": {
     "name": "#%%\n"
    }
   }
  },
  {
   "cell_type": "markdown",
   "source": [
    "o\tSelect the first sensor, which belongs to the first station"
   ],
   "metadata": {
    "collapsed": false,
    "pycharm": {
     "name": "#%% md\n"
    }
   }
  },
  {
   "cell_type": "code",
   "execution_count": null,
   "outputs": [],
   "source": [
    "#Select the first sensor, which belongs to the first station\n",
    "print(\"Query 3\", session.query(Sensor).filter(Sensor.station == station).one())"
   ],
   "metadata": {
    "collapsed": false,
    "pycharm": {
     "name": "#%%\n"
    }
   }
  },
  {
   "cell_type": "markdown",
   "source": [
    "o\tQuery the station table with pandas read_sql()"
   ],
   "metadata": {
    "collapsed": false,
    "pycharm": {
     "name": "#%% md\n"
    }
   }
  },
  {
   "cell_type": "code",
   "execution_count": 95,
   "outputs": [],
   "source": [
    "#Query the station table with pandas read_sql()\n",
    "print(read_sql(\"SELECT * FROM station\", engine.raw_connection()))"
   ],
   "metadata": {
    "collapsed": false,
    "pycharm": {
     "name": "#%%\n"
    }
   }
  }
 ],
 "metadata": {
  "kernelspec": {
   "display_name": "Python 3",
   "language": "python",
   "name": "python3"
  },
  "language_info": {
   "codemirror_mode": {
    "name": "ipython",
    "version": 2
   },
   "file_extension": ".py",
   "mimetype": "text/x-python",
   "name": "python",
   "nbconvert_exporter": "python",
   "pygments_lexer": "ipython2",
   "version": "2.7.6"
  }
 },
 "nbformat": 4,
 "nbformat_minor": 0
}