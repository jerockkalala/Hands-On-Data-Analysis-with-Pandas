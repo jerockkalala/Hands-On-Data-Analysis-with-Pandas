{
 "cells": [
  {
   "cell_type": "markdown",
   "source": [
    "### Title: Exercice 5.2\n",
    "### Author: Jerock Kalala\n",
    "### Date: October 14 2022\n",
    "### Professor: David Kinney\n",
    "### Pandas skills exercises"
   ],
   "metadata": {
    "collapsed": false,
    "pycharm": {
     "name": "#%% md\n"
    }
   }
  },
  {
   "cell_type": "markdown",
   "source": [
    "#### 1. We want to look at data for the Facebook, Apple, Amazon, Netflix, and Google (FAANG) stocks, but we were given each as a separate CSV file (obtained using the stock_analysis package we will build in Chapter 7, Financial Analysis – Bitcoin and the Stock Market). Combine them into a single file and store the dataframe of the FAANG data as faang for the rest of the exercises:"
   ],
   "metadata": {
    "collapsed": false,
    "pycharm": {
     "name": "#%% md\n"
    }
   }
  },
  {
   "cell_type": "markdown",
   "source": [
    "##### 1.1. Read each file in."
   ],
   "metadata": {
    "collapsed": false,
    "pycharm": {
     "name": "#%% md\n"
    }
   }
  },
  {
   "cell_type": "code",
   "execution_count": 47,
   "outputs": [],
   "source": [
    "import numpy as np #import package\n",
    "import pandas as pd\n",
    "\n",
    "#read files\n",
    "aapl = pd.read_csv(\"E:\\\\Bellevue\\\\Fall_2022\\\\DSC 350 Data Wrangling for Data Scienc\\\\Week_5\\\\exercises\\\\aapl.csv\")\n",
    "amzn = pd.read_csv(\"E:\\\\Bellevue\\\\Fall_2022\\\\DSC 350 Data Wrangling for Data Scienc\\\\Week_5\\\\exercises\\\\amzn.csv\")\n",
    "fb = pd.read_csv(\"E:\\\\Bellevue\\\\Fall_2022\\\\DSC 350 Data Wrangling for Data Scienc\\\\Week_5\\\\exercises\\\\fb.csv\")\n",
    "goog = pd.read_csv(\"E:\\\\Bellevue\\\\Fall_2022\\\\DSC 350 Data Wrangling for Data Scienc\\\\Week_5\\\\exercises\\\\goog.csv\")\n",
    "nflx = pd.read_csv(\"E:\\\\Bellevue\\\\Fall_2022\\\\DSC 350 Data Wrangling for Data Scienc\\\\Week_5\\\\exercises\\\\nflx.csv\")\n"
   ],
   "metadata": {
    "collapsed": false,
    "pycharm": {
     "name": "#%%\n"
    }
   }
  },
  {
   "cell_type": "markdown",
   "source": [
    "##### 1.2. Add a column to each dataframe, called ticker, indicating the ticker symbol it is for (Apple's is AAPL, for example). This is how you look up a stock. Each file's name is also the ticker symbol, so be sure to capitalize it."
   ],
   "metadata": {
    "collapsed": false,
    "pycharm": {
     "name": "#%% md\n"
    }
   }
  },
  {
   "cell_type": "code",
   "execution_count": 48,
   "outputs": [
    {
     "name": "stdout",
     "output_type": "stream",
     "text": [
      "         date      open      high       low     close    volume ticker\n",
      "0  2018-01-02  166.9271  169.0264  166.0442  168.9872  25555934   AAPL\n",
      "1  2018-01-03  169.2521  171.2337  168.6929  168.9578  29517899   AAPL\n",
      "2  2018-01-04  169.2619  170.1742  168.8106  169.7426  22434597   AAPL\n",
      "3  2018-01-05  170.1448  172.0381  169.7622  171.6751  23660018   AAPL\n",
      "4  2018-01-08  171.0375  172.2736  170.6255  171.0375  20567766   AAPL \n",
      "\n",
      "         date     open     high      low    close   volume ticker\n",
      "0  2018-01-02  1172.00  1190.00  1170.51  1189.01  2694494   AMZN\n",
      "1  2018-01-03  1188.30  1205.49  1188.30  1204.20  3108793   AMZN\n",
      "2  2018-01-04  1205.00  1215.87  1204.66  1209.59  3022089   AMZN\n",
      "3  2018-01-05  1217.51  1229.14  1210.00  1229.14  3544743   AMZN\n",
      "4  2018-01-08  1236.00  1253.08  1232.03  1246.87  4279475   AMZN \n",
      "\n",
      "         date    open    high       low   close    volume ticker\n",
      "0  2018-01-02  177.68  181.58  177.5500  181.42  18151903     FB\n",
      "1  2018-01-03  181.88  184.78  181.3300  184.67  16886563     FB\n",
      "2  2018-01-04  184.90  186.21  184.0996  184.33  13880896     FB\n",
      "3  2018-01-05  185.59  186.90  184.9300  186.85  13574535     FB\n",
      "4  2018-01-08  187.20  188.90  186.3300  188.28  17994726     FB \n",
      "\n",
      "         date     open     high      low    close   volume ticker\n",
      "0  2018-01-02  1048.34  1066.94  1045.23  1065.00  1237564   GOOG\n",
      "1  2018-01-03  1064.31  1086.29  1063.21  1082.48  1430170   GOOG\n",
      "2  2018-01-04  1088.00  1093.57  1084.00  1086.40  1004605   GOOG\n",
      "3  2018-01-05  1094.00  1104.25  1092.00  1102.23  1279123   GOOG\n",
      "4  2018-01-08  1102.23  1111.27  1101.62  1106.94  1047603   GOOG \n",
      "\n",
      "         date    open    high       low   close    volume ticker\n",
      "0  2018-01-02  196.10  201.65  195.4200  201.07  10966889   NFLX\n",
      "1  2018-01-03  202.05  206.21  201.5000  205.05   8591369   NFLX\n",
      "2  2018-01-04  206.20  207.05  204.0006  205.63   6029616   NFLX\n",
      "3  2018-01-05  207.25  210.02  205.5900  209.99   7033240   NFLX\n",
      "4  2018-01-08  210.02  212.50  208.4400  212.05   5580178   NFLX \n",
      "\n"
     ]
    }
   ],
   "source": [
    "aapl['ticker'] = 'AAPL'\n",
    "amzn['ticker'] = 'AMZN'\n",
    "fb['ticker'] = 'FB'\n",
    "goog['ticker'] = 'GOOG'\n",
    "nflx['ticker'] = 'NFLX'\n",
    "print(aapl.head(), \"\\n\")\n",
    "print(amzn.head(), \"\\n\")\n",
    "print(fb.head(), \"\\n\")\n",
    "print(goog.head(), \"\\n\")\n",
    "print(nflx.head(), \"\\n\")\n"
   ],
   "metadata": {
    "collapsed": false,
    "pycharm": {
     "name": "#%%\n"
    }
   }
  },
  {
   "cell_type": "markdown",
   "source": [
    "##### 1.3. Append them together into a single dataframe."
   ],
   "metadata": {
    "collapsed": false,
    "pycharm": {
     "name": "#%% md\n"
    }
   }
  },
  {
   "cell_type": "code",
   "execution_count": 49,
   "outputs": [
    {
     "data": {
      "text/plain": "(1255, 7)"
     },
     "execution_count": 49,
     "metadata": {},
     "output_type": "execute_result"
    }
   ],
   "source": [
    "faang= pd.concat([aapl, amzn, fb, goog, nflx], ignore_index=True)\n",
    "faang.shape"
   ],
   "metadata": {
    "collapsed": false,
    "pycharm": {
     "name": "#%%\n"
    }
   }
  },
  {
   "cell_type": "markdown",
   "source": [
    "##### 1.4. Save the result in a CSV file called faang.csv."
   ],
   "metadata": {
    "collapsed": false,
    "pycharm": {
     "name": "#%% md\n"
    }
   }
  },
  {
   "cell_type": "code",
   "execution_count": 50,
   "outputs": [],
   "source": [
    "faang.to_csv(\"E:\\\\Bellevue\\\\Fall_2022\\\\DSC 350 Data Wrangling for Data Scienc\\\\Week_5\\\\exercises\\\\faang.csv\", index=False)"
   ],
   "metadata": {
    "collapsed": false,
    "pycharm": {
     "name": "#%%\n"
    }
   }
  },
  {
   "cell_type": "markdown",
   "source": [
    "##### 2. With faang, use type conversion to change the date column into a datetime and the volume column into integers. Then, sort by date and ticker."
   ],
   "metadata": {
    "collapsed": false,
    "pycharm": {
     "name": "#%% md\n"
    }
   }
  },
  {
   "cell_type": "code",
   "execution_count": 51,
   "outputs": [
    {
     "data": {
      "text/plain": "date       object\nopen      float64\nhigh      float64\nlow       float64\nclose     float64\nvolume      int64\nticker     object\ndtype: object"
     },
     "execution_count": 51,
     "metadata": {},
     "output_type": "execute_result"
    }
   ],
   "source": [
    "faang.dtypes"
   ],
   "metadata": {
    "collapsed": false,
    "pycharm": {
     "name": "#%%\n"
    }
   }
  },
  {
   "cell_type": "code",
   "execution_count": 52,
   "outputs": [
    {
     "data": {
      "text/plain": "date      datetime64[ns]\nopen             float64\nhigh             float64\nlow              float64\nclose            float64\nvolume             int64\nticker            object\ndtype: object"
     },
     "execution_count": 52,
     "metadata": {},
     "output_type": "execute_result"
    }
   ],
   "source": [
    "#faang.loc[: , 'date'] = pd.to_datetime(faang.date)# used in the book\n",
    "faang[faang.columns[0]] = pd.to_datetime(faang.date) #as suggested by the future version\n",
    "faang.dtypes"
   ],
   "metadata": {
    "collapsed": false,
    "pycharm": {
     "name": "#%%\n"
    }
   }
  },
  {
   "cell_type": "markdown",
   "source": [
    "##### 3. Find the seven rows with the highest value for volume."
   ],
   "metadata": {
    "collapsed": false,
    "pycharm": {
     "name": "#%% md\n"
    }
   }
  },
  {
   "cell_type": "code",
   "execution_count": 53,
   "outputs": [
    {
     "data": {
      "text/plain": "          date      open      high       low     close     volume ticker\n644 2018-07-26  174.8900  180.1300  173.7500  176.2600  169803668     FB\n555 2018-03-20  167.4700  170.2000  161.9500  168.1500  129851768     FB\n559 2018-03-26  160.8200  161.1000  149.0200  160.0600  126116634     FB\n556 2018-03-21  164.8000  173.4000  163.3000  169.3900  106598834     FB\n182 2018-09-21  219.0727  219.6482  215.6097  215.9768   96246748   AAPL\n245 2018-12-21  156.1901  157.4845  148.9909  150.0862   95744384   AAPL\n212 2018-11-02  207.9295  211.9978  203.8414  205.8755   91328654   AAPL",
      "text/html": "<div>\n<style scoped>\n    .dataframe tbody tr th:only-of-type {\n        vertical-align: middle;\n    }\n\n    .dataframe tbody tr th {\n        vertical-align: top;\n    }\n\n    .dataframe thead th {\n        text-align: right;\n    }\n</style>\n<table border=\"1\" class=\"dataframe\">\n  <thead>\n    <tr style=\"text-align: right;\">\n      <th></th>\n      <th>date</th>\n      <th>open</th>\n      <th>high</th>\n      <th>low</th>\n      <th>close</th>\n      <th>volume</th>\n      <th>ticker</th>\n    </tr>\n  </thead>\n  <tbody>\n    <tr>\n      <th>644</th>\n      <td>2018-07-26</td>\n      <td>174.8900</td>\n      <td>180.1300</td>\n      <td>173.7500</td>\n      <td>176.2600</td>\n      <td>169803668</td>\n      <td>FB</td>\n    </tr>\n    <tr>\n      <th>555</th>\n      <td>2018-03-20</td>\n      <td>167.4700</td>\n      <td>170.2000</td>\n      <td>161.9500</td>\n      <td>168.1500</td>\n      <td>129851768</td>\n      <td>FB</td>\n    </tr>\n    <tr>\n      <th>559</th>\n      <td>2018-03-26</td>\n      <td>160.8200</td>\n      <td>161.1000</td>\n      <td>149.0200</td>\n      <td>160.0600</td>\n      <td>126116634</td>\n      <td>FB</td>\n    </tr>\n    <tr>\n      <th>556</th>\n      <td>2018-03-21</td>\n      <td>164.8000</td>\n      <td>173.4000</td>\n      <td>163.3000</td>\n      <td>169.3900</td>\n      <td>106598834</td>\n      <td>FB</td>\n    </tr>\n    <tr>\n      <th>182</th>\n      <td>2018-09-21</td>\n      <td>219.0727</td>\n      <td>219.6482</td>\n      <td>215.6097</td>\n      <td>215.9768</td>\n      <td>96246748</td>\n      <td>AAPL</td>\n    </tr>\n    <tr>\n      <th>245</th>\n      <td>2018-12-21</td>\n      <td>156.1901</td>\n      <td>157.4845</td>\n      <td>148.9909</td>\n      <td>150.0862</td>\n      <td>95744384</td>\n      <td>AAPL</td>\n    </tr>\n    <tr>\n      <th>212</th>\n      <td>2018-11-02</td>\n      <td>207.9295</td>\n      <td>211.9978</td>\n      <td>203.8414</td>\n      <td>205.8755</td>\n      <td>91328654</td>\n      <td>AAPL</td>\n    </tr>\n  </tbody>\n</table>\n</div>"
     },
     "execution_count": 53,
     "metadata": {},
     "output_type": "execute_result"
    }
   ],
   "source": [
    "faang.nlargest(n=7, columns='volume')\n",
    "#Or we can also use:\n",
    "#faang.sort_values(by='volume', ascending= False).head(7)"
   ],
   "metadata": {
    "collapsed": false,
    "pycharm": {
     "name": "#%%\n"
    }
   }
  },
  {
   "cell_type": "markdown",
   "source": [
    "##### 4. Right now, the data is somewhere between long and wide format. Use melt() to make it completely long format.\n",
    "##### Hint: date and ticker are our ID variables (they uniquely identify each row).\n",
    "##### We need to melt the rest so that we don't have separate columns for open, high, low, close, and volume."
   ],
   "metadata": {
    "collapsed": false,
    "pycharm": {
     "name": "#%% md\n"
    }
   }
  },
  {
   "cell_type": "code",
   "execution_count": 55,
   "outputs": [
    {
     "data": {
      "text/plain": "        date ticker variable     value\n0 2018-01-02   AAPL     open  166.9271\n1 2018-01-03   AAPL     open  169.2521\n2 2018-01-04   AAPL     open  169.2619\n3 2018-01-05   AAPL     open  170.1448\n4 2018-01-08   AAPL     open  171.0375",
      "text/html": "<div>\n<style scoped>\n    .dataframe tbody tr th:only-of-type {\n        vertical-align: middle;\n    }\n\n    .dataframe tbody tr th {\n        vertical-align: top;\n    }\n\n    .dataframe thead th {\n        text-align: right;\n    }\n</style>\n<table border=\"1\" class=\"dataframe\">\n  <thead>\n    <tr style=\"text-align: right;\">\n      <th></th>\n      <th>date</th>\n      <th>ticker</th>\n      <th>variable</th>\n      <th>value</th>\n    </tr>\n  </thead>\n  <tbody>\n    <tr>\n      <th>0</th>\n      <td>2018-01-02</td>\n      <td>AAPL</td>\n      <td>open</td>\n      <td>166.9271</td>\n    </tr>\n    <tr>\n      <th>1</th>\n      <td>2018-01-03</td>\n      <td>AAPL</td>\n      <td>open</td>\n      <td>169.2521</td>\n    </tr>\n    <tr>\n      <th>2</th>\n      <td>2018-01-04</td>\n      <td>AAPL</td>\n      <td>open</td>\n      <td>169.2619</td>\n    </tr>\n    <tr>\n      <th>3</th>\n      <td>2018-01-05</td>\n      <td>AAPL</td>\n      <td>open</td>\n      <td>170.1448</td>\n    </tr>\n    <tr>\n      <th>4</th>\n      <td>2018-01-08</td>\n      <td>AAPL</td>\n      <td>open</td>\n      <td>171.0375</td>\n    </tr>\n  </tbody>\n</table>\n</div>"
     },
     "execution_count": 55,
     "metadata": {},
     "output_type": "execute_result"
    }
   ],
   "source": [
    "faang_m = faang.melt(id_vars=[\"date\", \"ticker\"])\n",
    "faang_m.head()"
   ],
   "metadata": {
    "collapsed": false,
    "pycharm": {
     "name": "#%%\n"
    }
   }
  },
  {
   "cell_type": "code",
   "execution_count": 56,
   "outputs": [],
   "source": [
    "#save the melted dataframe in a csv file calle faangmelt.csv\n",
    "faang_m.to_csv(\"E:\\\\Bellevue\\\\Fall_2022\\\\DSC 350 Data Wrangling for Data Scienc\\\\Week_5\\\\exercises\\\\faangmelt.csv\", index=False)"
   ],
   "metadata": {
    "collapsed": false,
    "pycharm": {
     "name": "#%%\n"
    }
   }
  },
  {
   "cell_type": "markdown",
   "source": [
    "##### 5. Suppose we found out there was a glitch in how the data was recorded on July 26, 2018. How should we handle this? Note that there is no coding required for this exercise."
   ],
   "metadata": {
    "collapsed": false,
    "pycharm": {
     "name": "#%% md\n"
    }
   }
  },
  {
   "cell_type": "code",
   "execution_count": 58,
   "outputs": [
    {
     "name": "stdout",
     "output_type": "stream",
     "text": [
      "If we cannot correct it, We can decide to remove or drop it.\n"
     ]
    }
   ],
   "source": [
    "print(\"If we cannot correct it (replace with the correct data), We can decide to remove or drop it.\")"
   ],
   "metadata": {
    "collapsed": false,
    "pycharm": {
     "name": "#%%\n"
    }
   }
  },
  {
   "cell_type": "code",
   "execution_count": null,
   "outputs": [],
   "source": [],
   "metadata": {
    "collapsed": false,
    "pycharm": {
     "name": "#%%\n"
    }
   }
  }
 ],
 "metadata": {
  "kernelspec": {
   "display_name": "Python 3",
   "language": "python",
   "name": "python3"
  },
  "language_info": {
   "codemirror_mode": {
    "name": "ipython",
    "version": 2
   },
   "file_extension": ".py",
   "mimetype": "text/x-python",
   "name": "python",
   "nbconvert_exporter": "python",
   "pygments_lexer": "ipython2",
   "version": "2.7.6"
  }
 },
 "nbformat": 4,
 "nbformat_minor": 0
}