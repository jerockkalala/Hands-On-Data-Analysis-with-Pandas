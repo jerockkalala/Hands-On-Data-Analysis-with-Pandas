{
 "cells": [
  {
   "cell_type": "markdown",
   "source": [
    "### Title: Exercice 9.2\n",
    "### Author: Jerock Kalala\n",
    "### Date: November 08 2022\n",
    "### Professor: David Kinney\n",
    "### Retrieving, Processing and Storing Data"
   ],
   "metadata": {
    "collapsed": false,
    "pycharm": {
     "name": "#%% md\n"
    }
   }
  },
  {
   "cell_type": "code",
   "execution_count": 1,
   "outputs": [],
   "source": [
    "import pandas as pd\n",
    "import numpy as np\n",
    "\n",
    "import json\n",
    "import requests\n",
    "from bs4 import BeautifulSoup"
   ],
   "metadata": {
    "collapsed": false,
    "pycharm": {
     "name": "#%%\n"
    }
   }
  },
  {
   "cell_type": "markdown",
   "source": [
    "1. Generate a 3X4 NumPy array after seeding the random generator"
   ],
   "metadata": {
    "collapsed": false,
    "pycharm": {
     "name": "#%% md\n"
    }
   }
  },
  {
   "cell_type": "code",
   "execution_count": 4,
   "outputs": [
    {
     "name": "stdout",
     "output_type": "stream",
     "text": [
      "[[0.37454012 0.95071431 0.73199394 0.59865848]\n",
      " [0.15601864 0.15599452 0.05808361 0.86617615]\n",
      " [0.60111501 0.70807258        nan 0.96990985]]\n"
     ]
    }
   ],
   "source": [
    "# random array\n",
    "np.random.seed(42)\n",
    "arr = np.random.rand(3,4)\n",
    "arr[2][2] = np.nan\n",
    "print(arr)"
   ],
   "metadata": {
    "collapsed": false,
    "pycharm": {
     "name": "#%%\n"
    }
   }
  },
  {
   "cell_type": "code",
   "execution_count": 10,
   "outputs": [],
   "source": [
    "# Save the array as a CSV named np.csv\n",
    "np.savetxt(\"E:\\\\Bellevue\\\\Fall_2022\\\\DSC 350 Data Wrangling for Data Scienc\\\\Week_9\\\\np.csv\", arr, delimiter=\",\")\n",
    "# View the np field with the cat command (doesn't need to be included in code, just so you can verify the file looks correct)\n",
    "#cat np.csv"
   ],
   "metadata": {
    "collapsed": false,
    "pycharm": {
     "name": "#%%\n"
    }
   }
  },
  {
   "cell_type": "code",
   "execution_count": 11,
   "outputs": [
    {
     "name": "stdout",
     "output_type": "stream",
     "text": [
      "          0         1         2         3\n",
      "0  0.374540  0.950714  0.731994  0.598658\n",
      "1  0.156019  0.155995  0.058084  0.866176\n",
      "2  0.601115  0.708073       NaN  0.969910\n"
     ]
    }
   ],
   "source": [
    "# Create a DataFrame from the file and print the results\n",
    "\n",
    "df = pd.read_csv(\"E:\\\\Bellevue\\\\Fall_2022\\\\DSC 350 Data Wrangling for Data Scienc\\\\Week_9\\\\np.csv\", header=None)\n",
    "print(df)"
   ],
   "metadata": {
    "collapsed": false,
    "pycharm": {
     "name": "#%%\n"
    }
   }
  },
  {
   "cell_type": "code",
   "execution_count": 12,
   "outputs": [],
   "source": [
    "#Write the DataFrame to a CSV file\n",
    "\n",
    "df.to_csv(\"E:\\\\Bellevue\\\\Fall_2022\\\\DSC 350 Data Wrangling for Data Scienc\\\\Week_9\\\\np2.csv\", header=None, index=None)"
   ],
   "metadata": {
    "collapsed": false,
    "pycharm": {
     "name": "#%%\n"
    }
   }
  },
  {
   "cell_type": "markdown",
   "source": [
    "2. Generate a 365X4 NumPy array with random values"
   ],
   "metadata": {
    "collapsed": false,
    "pycharm": {
     "name": "#%% md\n"
    }
   }
  },
  {
   "cell_type": "code",
   "execution_count": 13,
   "outputs": [],
   "source": [
    "#array\n",
    "\n",
    "arr2 = np.random.rand(365,4)"
   ],
   "metadata": {
    "collapsed": false,
    "pycharm": {
     "name": "#%%\n"
    }
   }
  },
  {
   "cell_type": "code",
   "execution_count": 15,
   "outputs": [],
   "source": [
    "# Store the array ina CSV file and check its size.\n",
    "\n",
    "np.savetxt(\"arr2.csv\", arr2, delimiter=\",\")"
   ],
   "metadata": {
    "collapsed": false,
    "pycharm": {
     "name": "#%%\n"
    }
   }
  },
  {
   "cell_type": "code",
   "execution_count": 16,
   "outputs": [
    {
     "name": "stdout",
     "output_type": "stream",
     "text": [
      "(365, 4)\n"
     ]
    }
   ],
   "source": [
    "# Save the array in the NumPy format, load the array, check its shape and the size of the file\n",
    "\n",
    "np.save(\"arr2.npy\", arr2)\n",
    "arr2_load = np.load(\"arr2.npy\")\n",
    "print(arr2_load.shape)"
   ],
   "metadata": {
    "collapsed": false,
    "pycharm": {
     "name": "#%%\n"
    }
   }
  },
  {
   "cell_type": "code",
   "execution_count": 17,
   "outputs": [
    {
     "name": "stdout",
     "output_type": "stream",
     "text": [
      "            0         1         2         3\n",
      "0    0.832443  0.212339  0.181825  0.183405\n",
      "1    0.304242  0.524756  0.431945  0.291229\n",
      "2    0.611853  0.139494  0.292145  0.366362\n",
      "3    0.456070  0.785176  0.199674  0.514234\n",
      "4    0.592415  0.046450  0.607545  0.170524\n",
      "..        ...       ...       ...       ...\n",
      "360  0.868905  0.570610  0.030387  0.930949\n",
      "361  0.689527  0.676513  0.215675  0.658885\n",
      "362  0.393864  0.651233  0.106593  0.657845\n",
      "363  0.999414  0.048212  0.977174  0.406908\n",
      "364  0.870753  0.782385  0.567016  0.738449\n",
      "\n",
      "[365 rows x 4 columns]\n"
     ]
    }
   ],
   "source": [
    "# Create a DataFrame from this array you have created and write it to a pickle, then retrieve it from the pickle\n",
    "\n",
    "df2 = pd.DataFrame(arr2)\n",
    "df2.to_pickle(\"df2.pkl\")\n",
    "df2_load = pd.read_pickle(\"df2.pkl\")\n",
    "print(df2_load)"
   ],
   "metadata": {
    "collapsed": false,
    "pycharm": {
     "name": "#%%\n"
    }
   }
  },
  {
   "cell_type": "markdown",
   "source": [
    "3. Using the array created in #2, create an excel file with this data"
   ],
   "metadata": {
    "collapsed": false,
    "pycharm": {
     "name": "#%% md\n"
    }
   }
  },
  {
   "cell_type": "code",
   "execution_count": 23,
   "outputs": [],
   "source": [
    "df2.to_excel(\"E:\\\\Bellevue\\\\Fall_2022\\\\DSC 350 Data Wrangling for Data Scienc\\\\Week_9\\\\df2.xlsx\", sheet_name=\"Sheet1\")"
   ],
   "metadata": {
    "collapsed": false,
    "pycharm": {
     "name": "#%%\n"
    }
   }
  },
  {
   "cell_type": "code",
   "execution_count": 24,
   "outputs": [
    {
     "name": "stdout",
     "output_type": "stream",
     "text": [
      "     Unnamed: 0         0         1         2         3\n",
      "0             0  0.832443  0.212339  0.181825  0.183405\n",
      "1             1  0.304242  0.524756  0.431945  0.291229\n",
      "2             2  0.611853  0.139494  0.292145  0.366362\n",
      "3             3  0.456070  0.785176  0.199674  0.514234\n",
      "4             4  0.592415  0.046450  0.607545  0.170524\n",
      "..          ...       ...       ...       ...       ...\n",
      "360         360  0.868905  0.570610  0.030387  0.930949\n",
      "361         361  0.689527  0.676513  0.215675  0.658885\n",
      "362         362  0.393864  0.651233  0.106593  0.657845\n",
      "363         363  0.999414  0.048212  0.977174  0.406908\n",
      "364         364  0.870753  0.782385  0.567016  0.738449\n",
      "\n",
      "[365 rows x 5 columns]\n"
     ]
    }
   ],
   "source": [
    "# After that is complete, create a dataframe from the excel\n",
    "df2_xlsx = pd.read_excel(\"E:\\\\Bellevue\\\\Fall_2022\\\\DSC 350 Data Wrangling for Data Scienc\\\\Week_9\\\\df2.xlsx\", sheet_name=\"Sheet1\")\n",
    "print(df2_xlsx)"
   ],
   "metadata": {
    "collapsed": false,
    "pycharm": {
     "name": "#%%\n"
    }
   }
  },
  {
   "cell_type": "markdown",
   "source": [
    "4. Using this JSON string, parse a JSON string with the loads() function"
   ],
   "metadata": {
    "collapsed": false,
    "pycharm": {
     "name": "#%% md\n"
    }
   }
  },
  {
   "cell_type": "code",
   "execution_count": 48,
   "outputs": [],
   "source": [
    "json_string = '{\"country\":\"Netherlands\",\"dma__code\":\"0\", \"timezone\":\"Europe/Amsterdam\",\"area_code\":\"0\",\"ip\":\"46.19.37.108\",\"asn\":\"AS196752\", \"continent_code\":\"EU\",\"isp\":\"Tilaa V.O.F.\",\"longitude\":-5.75,\"latitude\":52.5,\"country_code\":\"NL\",\"country_code3\":\"NLD\"}'"
   ],
   "metadata": {
    "collapsed": false,
    "pycharm": {
     "name": "#%%\n"
    }
   }
  },
  {
   "cell_type": "code",
   "execution_count": 44,
   "outputs": [
    {
     "name": "stdout",
     "output_type": "stream",
     "text": [
      "Netherlands\n"
     ]
    }
   ],
   "source": [
    "# Print the values for the \"Country\" column\n",
    "\n",
    "parsed = json.loads(json_string)\n",
    "print(parsed[\"country\"])"
   ],
   "metadata": {
    "collapsed": false,
    "pycharm": {
     "name": "#%%\n"
    }
   }
  },
  {
   "cell_type": "code",
   "execution_count": 45,
   "outputs": [
    {
     "name": "stdout",
     "output_type": "stream",
     "text": [
      "DR Congo\n"
     ]
    }
   ],
   "source": [
    "# Overwrite the value for Netherlands with a value of your choice\n",
    "\n",
    "parsed[\"country\"] = \"DR Congo\"\n",
    "print(parsed[\"country\"])"
   ],
   "metadata": {
    "collapsed": false,
    "pycharm": {
     "name": "#%%\n"
    }
   }
  },
  {
   "cell_type": "markdown",
   "source": [
    "5. Using the Pandas read_json() function, we can either create a pandas Series or DataFrame"
   ],
   "metadata": {
    "collapsed": false,
    "pycharm": {
     "name": "#%% md\n"
    }
   }
  },
  {
   "cell_type": "code",
   "execution_count": 50,
   "outputs": [
    {
     "name": "stdout",
     "output_type": "stream",
     "text": [
      "Series\n",
      " country                Netherlands\n",
      "dma__code                        0\n",
      "timezone          Europe/Amsterdam\n",
      "area_code                        0\n",
      "ip                    46.19.37.108\n",
      "asn                       AS196752\n",
      "continent_code                  EU\n",
      "isp                   Tilaa V.O.F.\n",
      "longitude                    -5.75\n",
      "latitude                      52.5\n",
      "country_code                    NL\n",
      "country_code3                  NLD\n",
      "dtype: object\n"
     ]
    }
   ],
   "source": [
    "# taking the JSON string from #4, create a series\n",
    "\n",
    "data = pd.read_json(json_string, typ='series')\n",
    "print(\"Series\\n\", data)"
   ],
   "metadata": {
    "collapsed": false,
    "pycharm": {
     "name": "#%%\n"
    }
   }
  },
  {
   "cell_type": "code",
   "execution_count": 30,
   "outputs": [
    {
     "ename": "NameError",
     "evalue": "name 'series' is not defined",
     "output_type": "error",
     "traceback": [
      "\u001B[1;31m---------------------------------------------------------------------------\u001B[0m",
      "\u001B[1;31mNameError\u001B[0m                                 Traceback (most recent call last)",
      "Cell \u001B[1;32mIn [30], line 3\u001B[0m\n\u001B[0;32m      1\u001B[0m \u001B[38;5;66;03m# Change the country value again to your choice and convert the Pandas Series to a JSON string\u001B[39;00m\n\u001B[1;32m----> 3\u001B[0m \u001B[43mseries\u001B[49m[\u001B[38;5;124m\"\u001B[39m\u001B[38;5;124mcountry\u001B[39m\u001B[38;5;124m\"\u001B[39m] \u001B[38;5;241m=\u001B[39m \u001B[38;5;124m\"\u001B[39m\u001B[38;5;124mCanada\u001B[39m\u001B[38;5;124m\"\u001B[39m\n\u001B[0;32m      4\u001B[0m \u001B[38;5;28mprint\u001B[39m(series\u001B[38;5;241m.\u001B[39mto_json())\n",
      "\u001B[1;31mNameError\u001B[0m: name 'series' is not defined"
     ]
    }
   ],
   "source": [
    "# Change the country value again to your choice and convert the Pandas Series to a JSON string\n",
    "\n",
    "data[\"country\"] = \"Canada\"\n",
    "print(data.to_json())"
   ],
   "metadata": {
    "collapsed": false,
    "pycharm": {
     "name": "#%%\n"
    }
   }
  },
  {
   "cell_type": "markdown",
   "source": [
    "6. Starting on page 124 — follow along with the BeautifulSoup exercise to scrape data from the HTML page included in the GitHub repo. This exercise is great practice for your Term Project Milestone 4"
   ],
   "metadata": {
    "collapsed": false,
    "pycharm": {
     "name": "#%% md\n"
    }
   }
  },
  {
   "cell_type": "code",
   "execution_count": 38,
   "outputs": [
    {
     "name": "stdout",
     "output_type": "stream",
     "text": [
      "First div\n",
      " <div class=\"inner-wrap\">\n",
      "<a class=\"skipcontent\" href=\"https://loripsum.net/#content\">Ga naar de inhoud</a>\n",
      "<div class=\"logo\">\n",
      "<a class=\"\">\n",
      "\t\t\t\t\tLORIPSUM<span>.net</span>\n",
      "<span class=\"yeolde-l\"></span>\n",
      "</a>\n",
      "<span class=\"tagline\">The 'lorem ipsum' generator that doesn't suck\n",
      "\t\t\t\t</span>\n",
      "</div>\n",
      "</div>\n"
     ]
    }
   ],
   "source": [
    "import re\n",
    "soup = BeautifulSoup(open('loripsum.html'))\n",
    "print(\"First div\\n\", soup.div)"
   ],
   "metadata": {
    "collapsed": false,
    "pycharm": {
     "name": "#%%\n"
    }
   }
  },
  {
   "cell_type": "code",
   "execution_count": 31,
   "outputs": [
    {
     "name": "stdout",
     "output_type": "stream",
     "text": [
      "    integer             datetime  category\n",
      "0         5  2015-01-01 00:00:00         0\n",
      "1         5  2015-01-01 00:00:01         0\n",
      "2         9  2015-01-01 00:00:02         0\n",
      "3         6  2015-01-01 00:00:03         0\n",
      "4         6  2015-01-01 00:00:04         0\n",
      "..      ...                  ...       ...\n",
      "95        9  2015-01-01 00:01:35         0\n",
      "96        8  2015-01-01 00:01:36         0\n",
      "97        6  2015-01-01 00:01:37         0\n",
      "98        8  2015-01-01 00:01:38         0\n",
      "99        1  2015-01-01 00:01:39         0\n",
      "\n",
      "[100 rows x 3 columns]\n"
     ]
    }
   ],
   "source": [
    "url = \"https://raw.githubusercontent.com/chrisalbon/simulated_datasets/master/data.html\"\n",
    "html = requests.get(url).content\n",
    "df_list = pd.read_html(html)\n",
    "df = df_list[0]\n",
    "print(df)"
   ],
   "metadata": {
    "collapsed": false,
    "pycharm": {
     "name": "#%%\n"
    }
   }
  }
 ],
 "metadata": {
  "kernelspec": {
   "display_name": "Python 3",
   "language": "python",
   "name": "python3"
  },
  "language_info": {
   "codemirror_mode": {
    "name": "ipython",
    "version": 2
   },
   "file_extension": ".py",
   "mimetype": "text/x-python",
   "name": "python",
   "nbconvert_exporter": "python",
   "pygments_lexer": "ipython2",
   "version": "2.7.6"
  }
 },
 "nbformat": 4,
 "nbformat_minor": 0
}