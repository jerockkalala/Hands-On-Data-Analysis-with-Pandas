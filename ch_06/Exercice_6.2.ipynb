{
 "cells": [
  {
   "cell_type": "markdown",
   "source": [
    "### Title: Exercice 6.2\n",
    "### Author: Jerock Kalala\n",
    "### Date: October 17 2022\n",
    "### Professor: David Kinney\n",
    "### Pandas skills exercises"
   ],
   "metadata": {
    "collapsed": false,
    "pycharm": {
     "name": "#%% md\n"
    }
   }
  },
  {
   "cell_type": "markdown",
   "source": [
    "##### Exercises Using the CSV files in the exercises/ folder and what we have learned so far in this book, complete the following exercises:"
   ],
   "metadata": {
    "collapsed": false,
    "pycharm": {
     "name": "#%% md\n"
    }
   }
  },
  {
   "cell_type": "code",
   "execution_count": 3,
   "outputs": [
    {
     "data": {
      "text/plain": "     mag magType           time                               place  tsunami  \\\n227  5.2      mb  1539389603790             15km WSW of Pisco, Peru        0   \n229  4.9      mb  1539389546300        193km N of Qulansiyah, Yemen        0   \n248  4.9      mb  1539382925190  151km S of Severo-Kuril'sk, Russia        0   \n258  5.1      mb  1539380306940       236km NNW of Kuril'sk, Russia        0   \n391  5.1      mb  1539337221080             Pacific-Antarctic Ridge        0   \n\n                parsed_place  \n227                     Peru  \n229                    Yemen  \n248                   Russia  \n258                   Russia  \n391  Pacific-Antarctic Ridge  ",
      "text/html": "<div>\n<style scoped>\n    .dataframe tbody tr th:only-of-type {\n        vertical-align: middle;\n    }\n\n    .dataframe tbody tr th {\n        vertical-align: top;\n    }\n\n    .dataframe thead th {\n        text-align: right;\n    }\n</style>\n<table border=\"1\" class=\"dataframe\">\n  <thead>\n    <tr style=\"text-align: right;\">\n      <th></th>\n      <th>mag</th>\n      <th>magType</th>\n      <th>time</th>\n      <th>place</th>\n      <th>tsunami</th>\n      <th>parsed_place</th>\n    </tr>\n  </thead>\n  <tbody>\n    <tr>\n      <th>227</th>\n      <td>5.2</td>\n      <td>mb</td>\n      <td>1539389603790</td>\n      <td>15km WSW of Pisco, Peru</td>\n      <td>0</td>\n      <td>Peru</td>\n    </tr>\n    <tr>\n      <th>229</th>\n      <td>4.9</td>\n      <td>mb</td>\n      <td>1539389546300</td>\n      <td>193km N of Qulansiyah, Yemen</td>\n      <td>0</td>\n      <td>Yemen</td>\n    </tr>\n    <tr>\n      <th>248</th>\n      <td>4.9</td>\n      <td>mb</td>\n      <td>1539382925190</td>\n      <td>151km S of Severo-Kuril'sk, Russia</td>\n      <td>0</td>\n      <td>Russia</td>\n    </tr>\n    <tr>\n      <th>258</th>\n      <td>5.1</td>\n      <td>mb</td>\n      <td>1539380306940</td>\n      <td>236km NNW of Kuril'sk, Russia</td>\n      <td>0</td>\n      <td>Russia</td>\n    </tr>\n    <tr>\n      <th>391</th>\n      <td>5.1</td>\n      <td>mb</td>\n      <td>1539337221080</td>\n      <td>Pacific-Antarctic Ridge</td>\n      <td>0</td>\n      <td>Pacific-Antarctic Ridge</td>\n    </tr>\n  </tbody>\n</table>\n</div>"
     },
     "execution_count": 3,
     "metadata": {},
     "output_type": "execute_result"
    }
   ],
   "source": [
    "import pandas as pd\n",
    "import numpy as np\n",
    "#read the earthquakes csv file\n",
    "df = pd.read_csv(\"E:\\\\Bellevue\\\\Fall_2022\\\\DSC 350 Data Wrangling for Data Scienc\\\\Week_6\\exercises\\\\earthquakes.csv\")\n",
    "df_f= pd.read_csv(\"E:\\\\Bellevue\\\\Fall_2022\\\\DSC 350 Data Wrangling for Data Scienc\\\\Week_6\\exercises\\\\faang.csv\")\n",
    "\n",
    "query_1 = df.query('magType == \"mb\" and mag >= 4.9')\n",
    "query_1.head()"
   ],
   "metadata": {
    "collapsed": false,
    "pycharm": {
     "name": "#%%\n"
    }
   }
  },
  {
   "cell_type": "markdown",
   "source": [
    "##### 1. With the earthquakes.csv file, select all the earthquakes in Japan with a magType of mb and a magnitude of 4.9 or greater."
   ],
   "metadata": {
    "collapsed": false,
    "pycharm": {
     "name": "#%% md\n"
    }
   }
  },
  {
   "cell_type": "code",
   "execution_count": 4,
   "outputs": [
    {
     "data": {
      "text/plain": "      mag magType           time                         place  tsunami  \\\n1563  4.9      mb  1538977532250  293km ESE of Iwo Jima, Japan        0   \n2576  5.4      mb  1538697528010    37km E of Tomakomai, Japan        0   \n3072  4.9      mb  1538579732490     15km ENE of Hasaki, Japan        0   \n3632  4.9      mb  1538450871260    53km ESE of Hitachi, Japan        0   \n\n     parsed_place  \n1563        Japan  \n2576        Japan  \n3072        Japan  \n3632        Japan  ",
      "text/html": "<div>\n<style scoped>\n    .dataframe tbody tr th:only-of-type {\n        vertical-align: middle;\n    }\n\n    .dataframe tbody tr th {\n        vertical-align: top;\n    }\n\n    .dataframe thead th {\n        text-align: right;\n    }\n</style>\n<table border=\"1\" class=\"dataframe\">\n  <thead>\n    <tr style=\"text-align: right;\">\n      <th></th>\n      <th>mag</th>\n      <th>magType</th>\n      <th>time</th>\n      <th>place</th>\n      <th>tsunami</th>\n      <th>parsed_place</th>\n    </tr>\n  </thead>\n  <tbody>\n    <tr>\n      <th>1563</th>\n      <td>4.9</td>\n      <td>mb</td>\n      <td>1538977532250</td>\n      <td>293km ESE of Iwo Jima, Japan</td>\n      <td>0</td>\n      <td>Japan</td>\n    </tr>\n    <tr>\n      <th>2576</th>\n      <td>5.4</td>\n      <td>mb</td>\n      <td>1538697528010</td>\n      <td>37km E of Tomakomai, Japan</td>\n      <td>0</td>\n      <td>Japan</td>\n    </tr>\n    <tr>\n      <th>3072</th>\n      <td>4.9</td>\n      <td>mb</td>\n      <td>1538579732490</td>\n      <td>15km ENE of Hasaki, Japan</td>\n      <td>0</td>\n      <td>Japan</td>\n    </tr>\n    <tr>\n      <th>3632</th>\n      <td>4.9</td>\n      <td>mb</td>\n      <td>1538450871260</td>\n      <td>53km ESE of Hitachi, Japan</td>\n      <td>0</td>\n      <td>Japan</td>\n    </tr>\n  </tbody>\n</table>\n</div>"
     },
     "execution_count": 4,
     "metadata": {},
     "output_type": "execute_result"
    }
   ],
   "source": [
    "japan_data = df.query('parsed_place==\"Japan\" and magType == \"mb\" and mag >= 4.9')\n",
    "japan_data.head()"
   ],
   "metadata": {
    "collapsed": false,
    "pycharm": {
     "name": "#%%\n"
    }
   }
  },
  {
   "cell_type": "markdown",
   "source": [
    "##### 2. Create bins for each full number of magnitude (for example, the first bin is 0-1, the second is 1-2, and so on) with a magType of ml and count how many are in each bin."
   ],
   "metadata": {
    "collapsed": false,
    "pycharm": {
     "name": "#%% md\n"
    }
   }
  },
  {
   "cell_type": "code",
   "execution_count": 5,
   "outputs": [
    {
     "data": {
      "text/plain": "[45, 3105, 862, 122, 2, 1, 0, 0, 0, 0]"
     },
     "execution_count": 5,
     "metadata": {},
     "output_type": "execute_result"
    }
   ],
   "source": [
    "bin_1 = df.query('mag==0 and mag <= 1 and magType == \"ml\"')\n",
    "bin_2 = df.query('mag>1 and mag <= 2 and magType == \"ml\"')\n",
    "bin_3 = df.query('mag>2 and mag <= 3 and magType == \"ml\"')\n",
    "bin_4 = df.query('mag>3 and mag <= 4 and magType == \"ml\"')\n",
    "bin_5 = df.query('mag>4 and mag <= 5 and magType == \"ml\"')\n",
    "bin_6 = df.query('mag>5 and mag <= 6 and magType == \"ml\"')\n",
    "bin_7 = df.query('mag>6 and mag <= 7 and magType == \"ml\"')\n",
    "bin_8 = df.query('mag>7 and mag <= 8 and magType == \"ml\"')\n",
    "bin_9 = df.query('mag>8 and mag <= 9 and magType == \"ml\"')\n",
    "bin_10 = df.query('mag>9 and magType == \"ml\"')\n",
    "\n",
    "def get_row_count(*dfs):\n",
    "    return [df.shape[0] for df in dfs]\n",
    "get_row_count(bin_1, bin_2, bin_3, bin_4, bin_5, bin_6, bin_7, bin_8, bin_9, bin_10)"
   ],
   "metadata": {
    "collapsed": false,
    "pycharm": {
     "name": "#%%\n"
    }
   }
  },
  {
   "cell_type": "code",
   "execution_count": 6,
   "outputs": [
    {
     "data": {
      "text/plain": "[(45, 6),\n (3105, 6),\n (862, 6),\n (122, 6),\n (2, 6),\n (1, 6),\n (0, 6),\n (0, 6),\n (0, 6),\n (0, 6)]"
     },
     "execution_count": 6,
     "metadata": {},
     "output_type": "execute_result"
    }
   ],
   "source": [
    "def get_info(attr, *dfs):\n",
    "    return list(map(lambda x: getattr(x, attr), dfs))\n",
    "get_info('shape', bin_1, bin_2, bin_3, bin_4, bin_5, bin_6, bin_7, bin_8, bin_9, bin_10)"
   ],
   "metadata": {
    "collapsed": false,
    "pycharm": {
     "name": "#%%\n"
    }
   }
  },
  {
   "cell_type": "markdown",
   "source": [
    "##### 3. Using the faang.csv file, group by the ticker and resample to monthly frequency. Make the following aggregations: *Mean of the opening price, *Maximum of the high price, *Minimum of the low price, *Mean of the closing price, *Sum of the volume traded"
   ],
   "metadata": {
    "collapsed": false,
    "pycharm": {
     "name": "#%% md\n"
    }
   }
  },
  {
   "cell_type": "code",
   "execution_count": 7,
   "outputs": [],
   "source": [
    "#Converting to DateTime Format\n",
    "df_f['date'] = pd.to_datetime(df_f['date'])\n",
    "#Setting Index\n",
    "#df_f.set_index(\"date\",inplace=True)\n"
   ],
   "metadata": {
    "collapsed": false,
    "pycharm": {
     "name": "#%%\n"
    }
   }
  },
  {
   "cell_type": "code",
   "execution_count": 8,
   "outputs": [
    {
     "data": {
      "text/plain": "                          open       high        low        close     volume\nticker date                                                                 \nAAPL   2018-01-31   170.714690   176.6782   161.5708   170.699271  659679440\n       2018-02-28   164.562753   177.9059   147.9865   164.921884  927894473\n       2018-03-31   172.421381   180.7477   162.4660   171.878919  713727447\n       2018-04-30   167.332895   176.2526   158.2207   167.286924  666360147\n       2018-05-31   182.635582   187.9311   162.7911   183.207418  620976206\n       2018-06-30   186.605843   192.0247   178.7056   186.508652  527624365\n       2018-07-31   188.065786   193.7650   181.3655   188.179724  393843881\n       2018-08-31   210.460287   227.1001   195.0999   211.477743  700318837\n       2018-09-30   220.611742   227.8939   213.6351   220.356353  678972040\n       2018-10-31   219.489426   231.6645   204.4963   219.137822  789748068\n       2018-11-30   190.828681   220.6405   169.5328   190.246652  961321947\n       2018-12-31   164.537405   184.1501   145.9639   163.564732  898917007\nAMZN   2018-01-31  1301.377143  1472.5800  1170.5100  1309.010952   96371290\n       2018-02-28  1447.112632  1528.7000  1265.9300  1442.363158  137784020\n       2018-03-31  1542.160476  1617.5400  1365.2000  1540.367619  130400151\n       2018-04-30  1475.841905  1638.1000  1352.8800  1468.220476  129945743\n       2018-05-31  1590.474545  1635.0000  1546.0200  1594.903636   71615299\n       2018-06-30  1699.088571  1763.1000  1635.0900  1698.823810   85941510\n       2018-07-31  1786.305714  1880.0500  1678.0600  1784.649048   97629820\n       2018-08-31  1891.957826  2025.5700  1776.0200  1897.851304   96575676\n       2018-09-30  1969.239474  2050.5000  1865.0000  1966.077895   94445693\n       2018-10-31  1799.630870  2033.1900  1476.3600  1782.058261  183228552\n       2018-11-30  1622.323810  1784.0000  1420.0000  1625.483810  139290208\n       2018-12-31  1572.922105  1778.3400  1307.0000  1559.443158  154812304\nFB     2018-01-31   184.364762   190.6600   175.8000   184.962857  495655736\n       2018-02-28   180.721579   195.3200   167.1800   180.269474  516621991\n       2018-03-31   173.449524   186.1000   149.0200   173.489524  996232472\n       2018-04-30   164.163557   177.1000   150.5100   163.810476  751130388\n       2018-05-31   181.910509   192.7200   170.2300   182.930000  401144183\n       2018-06-30   194.974067   203.5500   186.4300   195.267619  387265765\n       2018-07-31   199.332143   218.6200   166.5600   199.967143  652763259\n       2018-08-31   177.598443   188.3000   170.2700   177.491957  549016789\n       2018-09-30   164.232895   173.8900   158.8656   164.377368  500468912\n       2018-10-31   154.873261   165.8800   139.0300   154.187826  622446235\n       2018-11-30   141.762857   154.1300   126.8500   141.635714  518150415\n       2018-12-31   137.529474   147.1900   123.0200   137.161053  558786249\nGOOG   2018-01-31  1127.200952  1186.8900  1045.2300  1130.770476   28738485\n       2018-02-28  1088.629474  1174.0000   992.5600  1088.206842   42384105\n       2018-03-31  1096.108095  1177.0500   980.6400  1091.490476   45430049\n       2018-04-30  1038.415238  1094.1600   990.3700  1035.696190   41773275\n       2018-05-31  1064.021364  1110.7500  1006.2900  1069.275909   31849196\n       2018-06-30  1136.396190  1186.2900  1096.0100  1137.626667   32103642\n       2018-07-31  1183.464286  1273.8900  1093.8000  1187.590476   31953386\n       2018-08-31  1226.156957  1256.5000  1188.2400  1225.671739   28820379\n       2018-09-30  1176.878421  1212.9900  1146.9100  1175.808947   28863199\n       2018-10-31  1116.082174  1209.9600   995.8300  1110.940435   48496167\n       2018-11-30  1054.971429  1095.5700   996.0200  1056.162381   36735570\n       2018-12-31  1042.620000  1124.6500   970.1100  1037.420526   40256461\nNFLX   2018-01-31   231.269286   286.8100   195.4200   232.908095  238377533\n       2018-02-28   270.873158   297.3600   236.1100   271.443684  184585819\n       2018-03-31   312.712857   333.9800   275.9000   312.228095  263449491\n       2018-04-30   309.129529   338.8200   271.2239   307.466190  262064417\n       2018-05-31   329.779759   356.1000   305.7300   331.536818  142051114\n       2018-06-30   384.557595   423.2056   352.8200   384.133333  244032001\n       2018-07-31   380.969090   419.7700   328.0000   381.515238  305487432\n       2018-08-31   345.409591   376.8085   310.9280   346.257826  213144082\n       2018-09-30   363.326842   383.2000   335.8300   362.641579  170832156\n       2018-10-31   340.025348   386.7999   271.2093   335.445652  363589920\n       2018-11-30   290.643333   332.0499   250.0000   290.344762  257126498\n       2018-12-31   266.309474   298.7200   231.2300   265.302368  234304628",
      "text/html": "<div>\n<style scoped>\n    .dataframe tbody tr th:only-of-type {\n        vertical-align: middle;\n    }\n\n    .dataframe tbody tr th {\n        vertical-align: top;\n    }\n\n    .dataframe thead th {\n        text-align: right;\n    }\n</style>\n<table border=\"1\" class=\"dataframe\">\n  <thead>\n    <tr style=\"text-align: right;\">\n      <th></th>\n      <th></th>\n      <th>open</th>\n      <th>high</th>\n      <th>low</th>\n      <th>close</th>\n      <th>volume</th>\n    </tr>\n    <tr>\n      <th>ticker</th>\n      <th>date</th>\n      <th></th>\n      <th></th>\n      <th></th>\n      <th></th>\n      <th></th>\n    </tr>\n  </thead>\n  <tbody>\n    <tr>\n      <th rowspan=\"12\" valign=\"top\">AAPL</th>\n      <th>2018-01-31</th>\n      <td>170.714690</td>\n      <td>176.6782</td>\n      <td>161.5708</td>\n      <td>170.699271</td>\n      <td>659679440</td>\n    </tr>\n    <tr>\n      <th>2018-02-28</th>\n      <td>164.562753</td>\n      <td>177.9059</td>\n      <td>147.9865</td>\n      <td>164.921884</td>\n      <td>927894473</td>\n    </tr>\n    <tr>\n      <th>2018-03-31</th>\n      <td>172.421381</td>\n      <td>180.7477</td>\n      <td>162.4660</td>\n      <td>171.878919</td>\n      <td>713727447</td>\n    </tr>\n    <tr>\n      <th>2018-04-30</th>\n      <td>167.332895</td>\n      <td>176.2526</td>\n      <td>158.2207</td>\n      <td>167.286924</td>\n      <td>666360147</td>\n    </tr>\n    <tr>\n      <th>2018-05-31</th>\n      <td>182.635582</td>\n      <td>187.9311</td>\n      <td>162.7911</td>\n      <td>183.207418</td>\n      <td>620976206</td>\n    </tr>\n    <tr>\n      <th>2018-06-30</th>\n      <td>186.605843</td>\n      <td>192.0247</td>\n      <td>178.7056</td>\n      <td>186.508652</td>\n      <td>527624365</td>\n    </tr>\n    <tr>\n      <th>2018-07-31</th>\n      <td>188.065786</td>\n      <td>193.7650</td>\n      <td>181.3655</td>\n      <td>188.179724</td>\n      <td>393843881</td>\n    </tr>\n    <tr>\n      <th>2018-08-31</th>\n      <td>210.460287</td>\n      <td>227.1001</td>\n      <td>195.0999</td>\n      <td>211.477743</td>\n      <td>700318837</td>\n    </tr>\n    <tr>\n      <th>2018-09-30</th>\n      <td>220.611742</td>\n      <td>227.8939</td>\n      <td>213.6351</td>\n      <td>220.356353</td>\n      <td>678972040</td>\n    </tr>\n    <tr>\n      <th>2018-10-31</th>\n      <td>219.489426</td>\n      <td>231.6645</td>\n      <td>204.4963</td>\n      <td>219.137822</td>\n      <td>789748068</td>\n    </tr>\n    <tr>\n      <th>2018-11-30</th>\n      <td>190.828681</td>\n      <td>220.6405</td>\n      <td>169.5328</td>\n      <td>190.246652</td>\n      <td>961321947</td>\n    </tr>\n    <tr>\n      <th>2018-12-31</th>\n      <td>164.537405</td>\n      <td>184.1501</td>\n      <td>145.9639</td>\n      <td>163.564732</td>\n      <td>898917007</td>\n    </tr>\n    <tr>\n      <th rowspan=\"12\" valign=\"top\">AMZN</th>\n      <th>2018-01-31</th>\n      <td>1301.377143</td>\n      <td>1472.5800</td>\n      <td>1170.5100</td>\n      <td>1309.010952</td>\n      <td>96371290</td>\n    </tr>\n    <tr>\n      <th>2018-02-28</th>\n      <td>1447.112632</td>\n      <td>1528.7000</td>\n      <td>1265.9300</td>\n      <td>1442.363158</td>\n      <td>137784020</td>\n    </tr>\n    <tr>\n      <th>2018-03-31</th>\n      <td>1542.160476</td>\n      <td>1617.5400</td>\n      <td>1365.2000</td>\n      <td>1540.367619</td>\n      <td>130400151</td>\n    </tr>\n    <tr>\n      <th>2018-04-30</th>\n      <td>1475.841905</td>\n      <td>1638.1000</td>\n      <td>1352.8800</td>\n      <td>1468.220476</td>\n      <td>129945743</td>\n    </tr>\n    <tr>\n      <th>2018-05-31</th>\n      <td>1590.474545</td>\n      <td>1635.0000</td>\n      <td>1546.0200</td>\n      <td>1594.903636</td>\n      <td>71615299</td>\n    </tr>\n    <tr>\n      <th>2018-06-30</th>\n      <td>1699.088571</td>\n      <td>1763.1000</td>\n      <td>1635.0900</td>\n      <td>1698.823810</td>\n      <td>85941510</td>\n    </tr>\n    <tr>\n      <th>2018-07-31</th>\n      <td>1786.305714</td>\n      <td>1880.0500</td>\n      <td>1678.0600</td>\n      <td>1784.649048</td>\n      <td>97629820</td>\n    </tr>\n    <tr>\n      <th>2018-08-31</th>\n      <td>1891.957826</td>\n      <td>2025.5700</td>\n      <td>1776.0200</td>\n      <td>1897.851304</td>\n      <td>96575676</td>\n    </tr>\n    <tr>\n      <th>2018-09-30</th>\n      <td>1969.239474</td>\n      <td>2050.5000</td>\n      <td>1865.0000</td>\n      <td>1966.077895</td>\n      <td>94445693</td>\n    </tr>\n    <tr>\n      <th>2018-10-31</th>\n      <td>1799.630870</td>\n      <td>2033.1900</td>\n      <td>1476.3600</td>\n      <td>1782.058261</td>\n      <td>183228552</td>\n    </tr>\n    <tr>\n      <th>2018-11-30</th>\n      <td>1622.323810</td>\n      <td>1784.0000</td>\n      <td>1420.0000</td>\n      <td>1625.483810</td>\n      <td>139290208</td>\n    </tr>\n    <tr>\n      <th>2018-12-31</th>\n      <td>1572.922105</td>\n      <td>1778.3400</td>\n      <td>1307.0000</td>\n      <td>1559.443158</td>\n      <td>154812304</td>\n    </tr>\n    <tr>\n      <th rowspan=\"12\" valign=\"top\">FB</th>\n      <th>2018-01-31</th>\n      <td>184.364762</td>\n      <td>190.6600</td>\n      <td>175.8000</td>\n      <td>184.962857</td>\n      <td>495655736</td>\n    </tr>\n    <tr>\n      <th>2018-02-28</th>\n      <td>180.721579</td>\n      <td>195.3200</td>\n      <td>167.1800</td>\n      <td>180.269474</td>\n      <td>516621991</td>\n    </tr>\n    <tr>\n      <th>2018-03-31</th>\n      <td>173.449524</td>\n      <td>186.1000</td>\n      <td>149.0200</td>\n      <td>173.489524</td>\n      <td>996232472</td>\n    </tr>\n    <tr>\n      <th>2018-04-30</th>\n      <td>164.163557</td>\n      <td>177.1000</td>\n      <td>150.5100</td>\n      <td>163.810476</td>\n      <td>751130388</td>\n    </tr>\n    <tr>\n      <th>2018-05-31</th>\n      <td>181.910509</td>\n      <td>192.7200</td>\n      <td>170.2300</td>\n      <td>182.930000</td>\n      <td>401144183</td>\n    </tr>\n    <tr>\n      <th>2018-06-30</th>\n      <td>194.974067</td>\n      <td>203.5500</td>\n      <td>186.4300</td>\n      <td>195.267619</td>\n      <td>387265765</td>\n    </tr>\n    <tr>\n      <th>2018-07-31</th>\n      <td>199.332143</td>\n      <td>218.6200</td>\n      <td>166.5600</td>\n      <td>199.967143</td>\n      <td>652763259</td>\n    </tr>\n    <tr>\n      <th>2018-08-31</th>\n      <td>177.598443</td>\n      <td>188.3000</td>\n      <td>170.2700</td>\n      <td>177.491957</td>\n      <td>549016789</td>\n    </tr>\n    <tr>\n      <th>2018-09-30</th>\n      <td>164.232895</td>\n      <td>173.8900</td>\n      <td>158.8656</td>\n      <td>164.377368</td>\n      <td>500468912</td>\n    </tr>\n    <tr>\n      <th>2018-10-31</th>\n      <td>154.873261</td>\n      <td>165.8800</td>\n      <td>139.0300</td>\n      <td>154.187826</td>\n      <td>622446235</td>\n    </tr>\n    <tr>\n      <th>2018-11-30</th>\n      <td>141.762857</td>\n      <td>154.1300</td>\n      <td>126.8500</td>\n      <td>141.635714</td>\n      <td>518150415</td>\n    </tr>\n    <tr>\n      <th>2018-12-31</th>\n      <td>137.529474</td>\n      <td>147.1900</td>\n      <td>123.0200</td>\n      <td>137.161053</td>\n      <td>558786249</td>\n    </tr>\n    <tr>\n      <th rowspan=\"12\" valign=\"top\">GOOG</th>\n      <th>2018-01-31</th>\n      <td>1127.200952</td>\n      <td>1186.8900</td>\n      <td>1045.2300</td>\n      <td>1130.770476</td>\n      <td>28738485</td>\n    </tr>\n    <tr>\n      <th>2018-02-28</th>\n      <td>1088.629474</td>\n      <td>1174.0000</td>\n      <td>992.5600</td>\n      <td>1088.206842</td>\n      <td>42384105</td>\n    </tr>\n    <tr>\n      <th>2018-03-31</th>\n      <td>1096.108095</td>\n      <td>1177.0500</td>\n      <td>980.6400</td>\n      <td>1091.490476</td>\n      <td>45430049</td>\n    </tr>\n    <tr>\n      <th>2018-04-30</th>\n      <td>1038.415238</td>\n      <td>1094.1600</td>\n      <td>990.3700</td>\n      <td>1035.696190</td>\n      <td>41773275</td>\n    </tr>\n    <tr>\n      <th>2018-05-31</th>\n      <td>1064.021364</td>\n      <td>1110.7500</td>\n      <td>1006.2900</td>\n      <td>1069.275909</td>\n      <td>31849196</td>\n    </tr>\n    <tr>\n      <th>2018-06-30</th>\n      <td>1136.396190</td>\n      <td>1186.2900</td>\n      <td>1096.0100</td>\n      <td>1137.626667</td>\n      <td>32103642</td>\n    </tr>\n    <tr>\n      <th>2018-07-31</th>\n      <td>1183.464286</td>\n      <td>1273.8900</td>\n      <td>1093.8000</td>\n      <td>1187.590476</td>\n      <td>31953386</td>\n    </tr>\n    <tr>\n      <th>2018-08-31</th>\n      <td>1226.156957</td>\n      <td>1256.5000</td>\n      <td>1188.2400</td>\n      <td>1225.671739</td>\n      <td>28820379</td>\n    </tr>\n    <tr>\n      <th>2018-09-30</th>\n      <td>1176.878421</td>\n      <td>1212.9900</td>\n      <td>1146.9100</td>\n      <td>1175.808947</td>\n      <td>28863199</td>\n    </tr>\n    <tr>\n      <th>2018-10-31</th>\n      <td>1116.082174</td>\n      <td>1209.9600</td>\n      <td>995.8300</td>\n      <td>1110.940435</td>\n      <td>48496167</td>\n    </tr>\n    <tr>\n      <th>2018-11-30</th>\n      <td>1054.971429</td>\n      <td>1095.5700</td>\n      <td>996.0200</td>\n      <td>1056.162381</td>\n      <td>36735570</td>\n    </tr>\n    <tr>\n      <th>2018-12-31</th>\n      <td>1042.620000</td>\n      <td>1124.6500</td>\n      <td>970.1100</td>\n      <td>1037.420526</td>\n      <td>40256461</td>\n    </tr>\n    <tr>\n      <th rowspan=\"12\" valign=\"top\">NFLX</th>\n      <th>2018-01-31</th>\n      <td>231.269286</td>\n      <td>286.8100</td>\n      <td>195.4200</td>\n      <td>232.908095</td>\n      <td>238377533</td>\n    </tr>\n    <tr>\n      <th>2018-02-28</th>\n      <td>270.873158</td>\n      <td>297.3600</td>\n      <td>236.1100</td>\n      <td>271.443684</td>\n      <td>184585819</td>\n    </tr>\n    <tr>\n      <th>2018-03-31</th>\n      <td>312.712857</td>\n      <td>333.9800</td>\n      <td>275.9000</td>\n      <td>312.228095</td>\n      <td>263449491</td>\n    </tr>\n    <tr>\n      <th>2018-04-30</th>\n      <td>309.129529</td>\n      <td>338.8200</td>\n      <td>271.2239</td>\n      <td>307.466190</td>\n      <td>262064417</td>\n    </tr>\n    <tr>\n      <th>2018-05-31</th>\n      <td>329.779759</td>\n      <td>356.1000</td>\n      <td>305.7300</td>\n      <td>331.536818</td>\n      <td>142051114</td>\n    </tr>\n    <tr>\n      <th>2018-06-30</th>\n      <td>384.557595</td>\n      <td>423.2056</td>\n      <td>352.8200</td>\n      <td>384.133333</td>\n      <td>244032001</td>\n    </tr>\n    <tr>\n      <th>2018-07-31</th>\n      <td>380.969090</td>\n      <td>419.7700</td>\n      <td>328.0000</td>\n      <td>381.515238</td>\n      <td>305487432</td>\n    </tr>\n    <tr>\n      <th>2018-08-31</th>\n      <td>345.409591</td>\n      <td>376.8085</td>\n      <td>310.9280</td>\n      <td>346.257826</td>\n      <td>213144082</td>\n    </tr>\n    <tr>\n      <th>2018-09-30</th>\n      <td>363.326842</td>\n      <td>383.2000</td>\n      <td>335.8300</td>\n      <td>362.641579</td>\n      <td>170832156</td>\n    </tr>\n    <tr>\n      <th>2018-10-31</th>\n      <td>340.025348</td>\n      <td>386.7999</td>\n      <td>271.2093</td>\n      <td>335.445652</td>\n      <td>363589920</td>\n    </tr>\n    <tr>\n      <th>2018-11-30</th>\n      <td>290.643333</td>\n      <td>332.0499</td>\n      <td>250.0000</td>\n      <td>290.344762</td>\n      <td>257126498</td>\n    </tr>\n    <tr>\n      <th>2018-12-31</th>\n      <td>266.309474</td>\n      <td>298.7200</td>\n      <td>231.2300</td>\n      <td>265.302368</td>\n      <td>234304628</td>\n    </tr>\n  </tbody>\n</table>\n</div>"
     },
     "execution_count": 8,
     "metadata": {},
     "output_type": "execute_result"
    }
   ],
   "source": [
    "monthly_freq = df_f.groupby('ticker').resample('M', on='date').agg({'open': 'mean', 'high': 'max', 'low': 'min',\n",
    "                                                              'close': 'mean', 'volume': 'sum'})\n",
    "monthly_freq"
   ],
   "metadata": {
    "collapsed": false,
    "pycharm": {
     "name": "#%%\n"
    }
   }
  },
  {
   "cell_type": "markdown",
   "source": [
    "##### 4. Build a crosstab with the earthquake data between the tsunami column and the magType column. Rather than showing the frequency count, show the maximum magnitude that was observed for each combination. Put the magType along the columns."
   ],
   "metadata": {
    "collapsed": false,
    "pycharm": {
     "name": "#%% md\n"
    }
   }
  },
  {
   "cell_type": "code",
   "execution_count": 9,
   "outputs": [
    {
     "data": {
      "text/plain": "tsunami     0     1\nmagType            \nmb       5.60  6.10\nmb_lg    3.50   NaN\nmd       4.11   NaN\nmh       1.10   NaN\nml       4.20  5.10\nms_20     NaN  5.70\nmw       3.83  4.41\nmwb      5.80   NaN\nmwr      4.80   NaN\nmww      6.00  7.50",
      "text/html": "<div>\n<style scoped>\n    .dataframe tbody tr th:only-of-type {\n        vertical-align: middle;\n    }\n\n    .dataframe tbody tr th {\n        vertical-align: top;\n    }\n\n    .dataframe thead th {\n        text-align: right;\n    }\n</style>\n<table border=\"1\" class=\"dataframe\">\n  <thead>\n    <tr style=\"text-align: right;\">\n      <th>tsunami</th>\n      <th>0</th>\n      <th>1</th>\n    </tr>\n    <tr>\n      <th>magType</th>\n      <th></th>\n      <th></th>\n    </tr>\n  </thead>\n  <tbody>\n    <tr>\n      <th>mb</th>\n      <td>5.60</td>\n      <td>6.10</td>\n    </tr>\n    <tr>\n      <th>mb_lg</th>\n      <td>3.50</td>\n      <td>NaN</td>\n    </tr>\n    <tr>\n      <th>md</th>\n      <td>4.11</td>\n      <td>NaN</td>\n    </tr>\n    <tr>\n      <th>mh</th>\n      <td>1.10</td>\n      <td>NaN</td>\n    </tr>\n    <tr>\n      <th>ml</th>\n      <td>4.20</td>\n      <td>5.10</td>\n    </tr>\n    <tr>\n      <th>ms_20</th>\n      <td>NaN</td>\n      <td>5.70</td>\n    </tr>\n    <tr>\n      <th>mw</th>\n      <td>3.83</td>\n      <td>4.41</td>\n    </tr>\n    <tr>\n      <th>mwb</th>\n      <td>5.80</td>\n      <td>NaN</td>\n    </tr>\n    <tr>\n      <th>mwr</th>\n      <td>4.80</td>\n      <td>NaN</td>\n    </tr>\n    <tr>\n      <th>mww</th>\n      <td>6.00</td>\n      <td>7.50</td>\n    </tr>\n  </tbody>\n</table>\n</div>"
     },
     "execution_count": 9,
     "metadata": {},
     "output_type": "execute_result"
    }
   ],
   "source": [
    "pd.crosstab(df.magType, df.tsunami, values=df.mag, aggfunc='max')"
   ],
   "metadata": {
    "collapsed": false,
    "pycharm": {
     "name": "#%%\n"
    }
   }
  },
  {
   "cell_type": "markdown",
   "source": [
    "##### 5. Calculate the rolling 60-day aggregations of OHLC data by ticker for the FAANG data. Use the same aggregations as exercise #3."
   ],
   "metadata": {
    "collapsed": false,
    "pycharm": {
     "name": "#%% md\n"
    }
   }
  },
  {
   "cell_type": "code",
   "execution_count": 10,
   "outputs": [
    {
     "data": {
      "text/plain": "                   open      high     low       close       volume\nticker                                                            \nAAPL   251          NaN       NaN     NaN         NaN          NaN\n       252          NaN       NaN     NaN         NaN          NaN\n       253          NaN       NaN     NaN         NaN          NaN\n       254          NaN       NaN     NaN         NaN          NaN\n       255          NaN       NaN     NaN         NaN          NaN\n...                 ...       ...     ...         ...          ...\nNFLX   999   306.018050  386.7999  233.68  303.239833  811001766.0\n       1000  303.596050  386.7999  231.23  301.232167  818289623.0\n       1001  301.500383  386.7999  231.23  299.134417  822148280.0\n       1002  299.393050  380.9300  231.23  297.116750  824496849.0\n       1003  297.420217  380.0000  231.23  295.293583  832207164.0\n\n[1255 rows x 5 columns]",
      "text/html": "<div>\n<style scoped>\n    .dataframe tbody tr th:only-of-type {\n        vertical-align: middle;\n    }\n\n    .dataframe tbody tr th {\n        vertical-align: top;\n    }\n\n    .dataframe thead th {\n        text-align: right;\n    }\n</style>\n<table border=\"1\" class=\"dataframe\">\n  <thead>\n    <tr style=\"text-align: right;\">\n      <th></th>\n      <th></th>\n      <th>open</th>\n      <th>high</th>\n      <th>low</th>\n      <th>close</th>\n      <th>volume</th>\n    </tr>\n    <tr>\n      <th>ticker</th>\n      <th></th>\n      <th></th>\n      <th></th>\n      <th></th>\n      <th></th>\n      <th></th>\n    </tr>\n  </thead>\n  <tbody>\n    <tr>\n      <th rowspan=\"5\" valign=\"top\">AAPL</th>\n      <th>251</th>\n      <td>NaN</td>\n      <td>NaN</td>\n      <td>NaN</td>\n      <td>NaN</td>\n      <td>NaN</td>\n    </tr>\n    <tr>\n      <th>252</th>\n      <td>NaN</td>\n      <td>NaN</td>\n      <td>NaN</td>\n      <td>NaN</td>\n      <td>NaN</td>\n    </tr>\n    <tr>\n      <th>253</th>\n      <td>NaN</td>\n      <td>NaN</td>\n      <td>NaN</td>\n      <td>NaN</td>\n      <td>NaN</td>\n    </tr>\n    <tr>\n      <th>254</th>\n      <td>NaN</td>\n      <td>NaN</td>\n      <td>NaN</td>\n      <td>NaN</td>\n      <td>NaN</td>\n    </tr>\n    <tr>\n      <th>255</th>\n      <td>NaN</td>\n      <td>NaN</td>\n      <td>NaN</td>\n      <td>NaN</td>\n      <td>NaN</td>\n    </tr>\n    <tr>\n      <th>...</th>\n      <th>...</th>\n      <td>...</td>\n      <td>...</td>\n      <td>...</td>\n      <td>...</td>\n      <td>...</td>\n    </tr>\n    <tr>\n      <th rowspan=\"5\" valign=\"top\">NFLX</th>\n      <th>999</th>\n      <td>306.018050</td>\n      <td>386.7999</td>\n      <td>233.68</td>\n      <td>303.239833</td>\n      <td>811001766.0</td>\n    </tr>\n    <tr>\n      <th>1000</th>\n      <td>303.596050</td>\n      <td>386.7999</td>\n      <td>231.23</td>\n      <td>301.232167</td>\n      <td>818289623.0</td>\n    </tr>\n    <tr>\n      <th>1001</th>\n      <td>301.500383</td>\n      <td>386.7999</td>\n      <td>231.23</td>\n      <td>299.134417</td>\n      <td>822148280.0</td>\n    </tr>\n    <tr>\n      <th>1002</th>\n      <td>299.393050</td>\n      <td>380.9300</td>\n      <td>231.23</td>\n      <td>297.116750</td>\n      <td>824496849.0</td>\n    </tr>\n    <tr>\n      <th>1003</th>\n      <td>297.420217</td>\n      <td>380.0000</td>\n      <td>231.23</td>\n      <td>295.293583</td>\n      <td>832207164.0</td>\n    </tr>\n  </tbody>\n</table>\n<p>1255 rows × 5 columns</p>\n</div>"
     },
     "execution_count": 10,
     "metadata": {},
     "output_type": "execute_result"
    }
   ],
   "source": [
    "df_f.groupby('ticker').rolling(60).agg({'open': 'mean', 'high': 'max', 'low': 'min',\n",
    "                                                             'close': 'mean', 'volume': 'sum'})"
   ],
   "metadata": {
    "collapsed": false,
    "pycharm": {
     "name": "#%%\n"
    }
   }
  },
  {
   "cell_type": "markdown",
   "source": [
    "##### 6. Create a pivot table of the FAANG data that compares the stocks. Put the ticker in the rows and show the averages of the OHLC and volume traded data."
   ],
   "metadata": {
    "collapsed": false,
    "pycharm": {
     "name": "#%% md\n"
    }
   }
  },
  {
   "cell_type": "code",
   "execution_count": 11,
   "outputs": [
    {
     "data": {
      "text/plain": "array(['FB', 'AAPL', 'AMZN', 'NFLX', 'GOOG'], dtype=object)"
     },
     "execution_count": 11,
     "metadata": {},
     "output_type": "execute_result"
    }
   ],
   "source": [
    "df_f['ticker'].unique()\n"
   ],
   "metadata": {
    "collapsed": false,
    "pycharm": {
     "name": "#%%\n"
    }
   }
  },
  {
   "cell_type": "code",
   "execution_count": 12,
   "outputs": [
    {
     "name": "stderr",
     "output_type": "stream",
     "text": [
      "C:\\Users\\jeroc\\AppData\\Local\\Temp\\ipykernel_31216\\2018325004.py:1: FutureWarning: The default value of numeric_only in DataFrameGroupBy.mean is deprecated. In a future version, numeric_only will default to False. Either specify numeric_only or select only columns which should be valid for the function.\n",
      "  pd.pivot_table(df_f, index='ticker')\n"
     ]
    },
    {
     "data": {
      "text/plain": "              close         high          low         open        volume\nticker                                                                  \nAAPL     186.986218   188.906858   185.135729   187.038674  3.402145e+07\nAMZN    1641.726175  1662.839801  1619.840398  1644.072669  5.649563e+06\nFB       171.510936   173.615298   169.303110   171.454424  2.768798e+07\nGOOG    1113.225139  1125.777649  1101.001594  1113.554104  1.742645e+06\nNFLX     319.290299   325.224583   313.187273   319.620533  1.147030e+07",
      "text/html": "<div>\n<style scoped>\n    .dataframe tbody tr th:only-of-type {\n        vertical-align: middle;\n    }\n\n    .dataframe tbody tr th {\n        vertical-align: top;\n    }\n\n    .dataframe thead th {\n        text-align: right;\n    }\n</style>\n<table border=\"1\" class=\"dataframe\">\n  <thead>\n    <tr style=\"text-align: right;\">\n      <th></th>\n      <th>close</th>\n      <th>high</th>\n      <th>low</th>\n      <th>open</th>\n      <th>volume</th>\n    </tr>\n    <tr>\n      <th>ticker</th>\n      <th></th>\n      <th></th>\n      <th></th>\n      <th></th>\n      <th></th>\n    </tr>\n  </thead>\n  <tbody>\n    <tr>\n      <th>AAPL</th>\n      <td>186.986218</td>\n      <td>188.906858</td>\n      <td>185.135729</td>\n      <td>187.038674</td>\n      <td>3.402145e+07</td>\n    </tr>\n    <tr>\n      <th>AMZN</th>\n      <td>1641.726175</td>\n      <td>1662.839801</td>\n      <td>1619.840398</td>\n      <td>1644.072669</td>\n      <td>5.649563e+06</td>\n    </tr>\n    <tr>\n      <th>FB</th>\n      <td>171.510936</td>\n      <td>173.615298</td>\n      <td>169.303110</td>\n      <td>171.454424</td>\n      <td>2.768798e+07</td>\n    </tr>\n    <tr>\n      <th>GOOG</th>\n      <td>1113.225139</td>\n      <td>1125.777649</td>\n      <td>1101.001594</td>\n      <td>1113.554104</td>\n      <td>1.742645e+06</td>\n    </tr>\n    <tr>\n      <th>NFLX</th>\n      <td>319.290299</td>\n      <td>325.224583</td>\n      <td>313.187273</td>\n      <td>319.620533</td>\n      <td>1.147030e+07</td>\n    </tr>\n  </tbody>\n</table>\n</div>"
     },
     "execution_count": 12,
     "metadata": {},
     "output_type": "execute_result"
    }
   ],
   "source": [
    "pd.pivot_table(df_f, index='ticker')"
   ],
   "metadata": {
    "collapsed": false,
    "pycharm": {
     "name": "#%%\n"
    }
   }
  },
  {
   "cell_type": "markdown",
   "source": [
    "##### 7. Calculate the Z-scores for each numeric column of Netflix's data (ticker is NFLX) using apply()."
   ],
   "metadata": {
    "collapsed": false,
    "pycharm": {
     "name": "#%% md\n"
    }
   }
  },
  {
   "cell_type": "code",
   "execution_count": 20,
   "outputs": [
    {
     "data": {
      "text/plain": "         open      high       low     close    volume\n753 -2.505749 -2.521050 -2.415042 -2.421473 -0.088937\n754 -2.385047 -2.428022 -2.290360 -2.339951 -0.508620\n755 -2.300860 -2.410885 -2.239081 -2.328071 -0.961204\n756 -2.279559 -2.350294 -2.206487 -2.238767 -0.783894\n757 -2.223367 -2.299699 -2.148042 -2.196572 -1.040606",
      "text/html": "<div>\n<style scoped>\n    .dataframe tbody tr th:only-of-type {\n        vertical-align: middle;\n    }\n\n    .dataframe tbody tr th {\n        vertical-align: top;\n    }\n\n    .dataframe thead th {\n        text-align: right;\n    }\n</style>\n<table border=\"1\" class=\"dataframe\">\n  <thead>\n    <tr style=\"text-align: right;\">\n      <th></th>\n      <th>open</th>\n      <th>high</th>\n      <th>low</th>\n      <th>close</th>\n      <th>volume</th>\n    </tr>\n  </thead>\n  <tbody>\n    <tr>\n      <th>753</th>\n      <td>-2.505749</td>\n      <td>-2.521050</td>\n      <td>-2.415042</td>\n      <td>-2.421473</td>\n      <td>-0.088937</td>\n    </tr>\n    <tr>\n      <th>754</th>\n      <td>-2.385047</td>\n      <td>-2.428022</td>\n      <td>-2.290360</td>\n      <td>-2.339951</td>\n      <td>-0.508620</td>\n    </tr>\n    <tr>\n      <th>755</th>\n      <td>-2.300860</td>\n      <td>-2.410885</td>\n      <td>-2.239081</td>\n      <td>-2.328071</td>\n      <td>-0.961204</td>\n    </tr>\n    <tr>\n      <th>756</th>\n      <td>-2.279559</td>\n      <td>-2.350294</td>\n      <td>-2.206487</td>\n      <td>-2.238767</td>\n      <td>-0.783894</td>\n    </tr>\n    <tr>\n      <th>757</th>\n      <td>-2.223367</td>\n      <td>-2.299699</td>\n      <td>-2.148042</td>\n      <td>-2.196572</td>\n      <td>-1.040606</td>\n    </tr>\n  </tbody>\n</table>\n</div>"
     },
     "execution_count": 20,
     "metadata": {},
     "output_type": "execute_result"
    }
   ],
   "source": [
    "import scipy\n",
    "\n",
    "df_netflix = df_f.query('ticker== \"NFLX\"')\n",
    "df_zscore = df_netflix.select_dtypes(include='number').apply(scipy.stats.zscore)\n",
    "df_zscore.head()"
   ],
   "metadata": {
    "collapsed": false,
    "pycharm": {
     "name": "#%%\n"
    }
   }
  },
  {
   "cell_type": "markdown",
   "source": [
    "##### 8. Add event descriptions:"
   ],
   "metadata": {
    "collapsed": false,
    "pycharm": {
     "name": "#%% md\n"
    }
   }
  },
  {
   "cell_type": "markdown",
   "source": [
    "###### 8.1. Create a dataframe with the following three columns: ticker, date, and event. The columns should have the following values:\n",
    "###### * ticker: 'FB'\n",
    "###### * date: ['2018-07-25', '2018-03-19', '2018-03-20']\n",
    "###### * event: ['Disappointing user growth announced after close.', 'Cambridge Analytica story', 'FTC investigation']"
   ],
   "metadata": {
    "collapsed": false,
    "pycharm": {
     "name": "#%% md\n"
    }
   }
  },
  {
   "cell_type": "code",
   "execution_count": 41,
   "outputs": [
    {
     "data": {
      "text/plain": "  ticker        date                                            event\n0     FB  2018-07-25  Disappointing user growth announced after close\n1     FB  2018-03-19                        Cambridge Analytica story\n2     FB  2018-03-20                                FTC investigation",
      "text/html": "<div>\n<style scoped>\n    .dataframe tbody tr th:only-of-type {\n        vertical-align: middle;\n    }\n\n    .dataframe tbody tr th {\n        vertical-align: top;\n    }\n\n    .dataframe thead th {\n        text-align: right;\n    }\n</style>\n<table border=\"1\" class=\"dataframe\">\n  <thead>\n    <tr style=\"text-align: right;\">\n      <th></th>\n      <th>ticker</th>\n      <th>date</th>\n      <th>event</th>\n    </tr>\n  </thead>\n  <tbody>\n    <tr>\n      <th>0</th>\n      <td>FB</td>\n      <td>2018-07-25</td>\n      <td>Disappointing user growth announced after close</td>\n    </tr>\n    <tr>\n      <th>1</th>\n      <td>FB</td>\n      <td>2018-03-19</td>\n      <td>Cambridge Analytica story</td>\n    </tr>\n    <tr>\n      <th>2</th>\n      <td>FB</td>\n      <td>2018-03-20</td>\n      <td>FTC investigation</td>\n    </tr>\n  </tbody>\n</table>\n</div>"
     },
     "execution_count": 41,
     "metadata": {},
     "output_type": "execute_result"
    }
   ],
   "source": [
    "data = {'ticker': ['FB', 'FB', 'FB'], 'date': ['2018-07-25', '2018-03-19',  '2018-03-20'],\n",
    "        'event': ['Disappointing user growth announced after close', 'Cambridge Analytica story', 'FTC investigation']}\n",
    "df_new = pd.DataFrame(data)\n",
    "df_new"
   ],
   "metadata": {
    "collapsed": false,
    "pycharm": {
     "name": "#%%\n"
    }
   }
  },
  {
   "cell_type": "markdown",
   "source": [
    "###### 8.2. Set the index to ['date', 'ticker']"
   ],
   "metadata": {
    "collapsed": false,
    "pycharm": {
     "name": "#%% md\n"
    }
   }
  },
  {
   "cell_type": "code",
   "execution_count": 42,
   "outputs": [
    {
     "data": {
      "text/plain": "                                                             event\ndate       ticker                                                 \n2018-07-25 FB      Disappointing user growth announced after close\n2018-03-19 FB                            Cambridge Analytica story\n2018-03-20 FB                                    FTC investigation",
      "text/html": "<div>\n<style scoped>\n    .dataframe tbody tr th:only-of-type {\n        vertical-align: middle;\n    }\n\n    .dataframe tbody tr th {\n        vertical-align: top;\n    }\n\n    .dataframe thead th {\n        text-align: right;\n    }\n</style>\n<table border=\"1\" class=\"dataframe\">\n  <thead>\n    <tr style=\"text-align: right;\">\n      <th></th>\n      <th></th>\n      <th>event</th>\n    </tr>\n    <tr>\n      <th>date</th>\n      <th>ticker</th>\n      <th></th>\n    </tr>\n  </thead>\n  <tbody>\n    <tr>\n      <th>2018-07-25</th>\n      <th>FB</th>\n      <td>Disappointing user growth announced after close</td>\n    </tr>\n    <tr>\n      <th>2018-03-19</th>\n      <th>FB</th>\n      <td>Cambridge Analytica story</td>\n    </tr>\n    <tr>\n      <th>2018-03-20</th>\n      <th>FB</th>\n      <td>FTC investigation</td>\n    </tr>\n  </tbody>\n</table>\n</div>"
     },
     "execution_count": 42,
     "metadata": {},
     "output_type": "execute_result"
    }
   ],
   "source": [
    "df_new.set_index(['date', 'ticker'])"
   ],
   "metadata": {
    "collapsed": false,
    "pycharm": {
     "name": "#%%\n"
    }
   }
  },
  {
   "cell_type": "markdown",
   "source": [
    "###### 8.3. Merge this data with the FAANG data using an outer join"
   ],
   "metadata": {
    "collapsed": false,
    "pycharm": {
     "name": "#%% md\n"
    }
   }
  },
  {
   "cell_type": "code",
   "execution_count": 43,
   "outputs": [
    {
     "data": {
      "text/plain": "     ticker       date     open     high        low    close    volume ticker  \\\n0        FB 2018-01-02   177.68   181.58   177.5500   181.42  18151903     FB   \n1        FB 2018-01-03   181.88   184.78   181.3300   184.67  16886563     FB   \n2        FB 2018-01-04   184.90   186.21   184.0996   184.33  13880896     FB   \n3        FB 2018-01-05   185.59   186.90   184.9300   186.85  13574535    NaN   \n4        FB 2018-01-08   187.20   188.90   186.3300   188.28  17994726    NaN   \n...     ...        ...      ...      ...        ...      ...       ...    ...   \n1250   GOOG 2018-12-24   973.90  1003.54   970.1100   976.22   1590328    NaN   \n1251   GOOG 2018-12-26   989.01  1040.00   983.0000  1039.46   2373270    NaN   \n1252   GOOG 2018-12-27  1017.15  1043.89   997.0000  1043.88   2109777    NaN   \n1253   GOOG 2018-12-28  1049.62  1055.56  1033.1000  1037.08   1413772    NaN   \n1254   GOOG 2018-12-31  1050.96  1052.70  1023.5900  1035.61   1493722    NaN   \n\n            date                                            event  \n0     2018-07-25  Disappointing user growth announced after close  \n1     2018-03-19                        Cambridge Analytica story  \n2     2018-03-20                                FTC investigation  \n3            NaN                                              NaN  \n4            NaN                                              NaN  \n...          ...                                              ...  \n1250         NaN                                              NaN  \n1251         NaN                                              NaN  \n1252         NaN                                              NaN  \n1253         NaN                                              NaN  \n1254         NaN                                              NaN  \n\n[1255 rows x 10 columns]",
      "text/html": "<div>\n<style scoped>\n    .dataframe tbody tr th:only-of-type {\n        vertical-align: middle;\n    }\n\n    .dataframe tbody tr th {\n        vertical-align: top;\n    }\n\n    .dataframe thead th {\n        text-align: right;\n    }\n</style>\n<table border=\"1\" class=\"dataframe\">\n  <thead>\n    <tr style=\"text-align: right;\">\n      <th></th>\n      <th>ticker</th>\n      <th>date</th>\n      <th>open</th>\n      <th>high</th>\n      <th>low</th>\n      <th>close</th>\n      <th>volume</th>\n      <th>ticker</th>\n      <th>date</th>\n      <th>event</th>\n    </tr>\n  </thead>\n  <tbody>\n    <tr>\n      <th>0</th>\n      <td>FB</td>\n      <td>2018-01-02</td>\n      <td>177.68</td>\n      <td>181.58</td>\n      <td>177.5500</td>\n      <td>181.42</td>\n      <td>18151903</td>\n      <td>FB</td>\n      <td>2018-07-25</td>\n      <td>Disappointing user growth announced after close</td>\n    </tr>\n    <tr>\n      <th>1</th>\n      <td>FB</td>\n      <td>2018-01-03</td>\n      <td>181.88</td>\n      <td>184.78</td>\n      <td>181.3300</td>\n      <td>184.67</td>\n      <td>16886563</td>\n      <td>FB</td>\n      <td>2018-03-19</td>\n      <td>Cambridge Analytica story</td>\n    </tr>\n    <tr>\n      <th>2</th>\n      <td>FB</td>\n      <td>2018-01-04</td>\n      <td>184.90</td>\n      <td>186.21</td>\n      <td>184.0996</td>\n      <td>184.33</td>\n      <td>13880896</td>\n      <td>FB</td>\n      <td>2018-03-20</td>\n      <td>FTC investigation</td>\n    </tr>\n    <tr>\n      <th>3</th>\n      <td>FB</td>\n      <td>2018-01-05</td>\n      <td>185.59</td>\n      <td>186.90</td>\n      <td>184.9300</td>\n      <td>186.85</td>\n      <td>13574535</td>\n      <td>NaN</td>\n      <td>NaN</td>\n      <td>NaN</td>\n    </tr>\n    <tr>\n      <th>4</th>\n      <td>FB</td>\n      <td>2018-01-08</td>\n      <td>187.20</td>\n      <td>188.90</td>\n      <td>186.3300</td>\n      <td>188.28</td>\n      <td>17994726</td>\n      <td>NaN</td>\n      <td>NaN</td>\n      <td>NaN</td>\n    </tr>\n    <tr>\n      <th>...</th>\n      <td>...</td>\n      <td>...</td>\n      <td>...</td>\n      <td>...</td>\n      <td>...</td>\n      <td>...</td>\n      <td>...</td>\n      <td>...</td>\n      <td>...</td>\n      <td>...</td>\n    </tr>\n    <tr>\n      <th>1250</th>\n      <td>GOOG</td>\n      <td>2018-12-24</td>\n      <td>973.90</td>\n      <td>1003.54</td>\n      <td>970.1100</td>\n      <td>976.22</td>\n      <td>1590328</td>\n      <td>NaN</td>\n      <td>NaN</td>\n      <td>NaN</td>\n    </tr>\n    <tr>\n      <th>1251</th>\n      <td>GOOG</td>\n      <td>2018-12-26</td>\n      <td>989.01</td>\n      <td>1040.00</td>\n      <td>983.0000</td>\n      <td>1039.46</td>\n      <td>2373270</td>\n      <td>NaN</td>\n      <td>NaN</td>\n      <td>NaN</td>\n    </tr>\n    <tr>\n      <th>1252</th>\n      <td>GOOG</td>\n      <td>2018-12-27</td>\n      <td>1017.15</td>\n      <td>1043.89</td>\n      <td>997.0000</td>\n      <td>1043.88</td>\n      <td>2109777</td>\n      <td>NaN</td>\n      <td>NaN</td>\n      <td>NaN</td>\n    </tr>\n    <tr>\n      <th>1253</th>\n      <td>GOOG</td>\n      <td>2018-12-28</td>\n      <td>1049.62</td>\n      <td>1055.56</td>\n      <td>1033.1000</td>\n      <td>1037.08</td>\n      <td>1413772</td>\n      <td>NaN</td>\n      <td>NaN</td>\n      <td>NaN</td>\n    </tr>\n    <tr>\n      <th>1254</th>\n      <td>GOOG</td>\n      <td>2018-12-31</td>\n      <td>1050.96</td>\n      <td>1052.70</td>\n      <td>1023.5900</td>\n      <td>1035.61</td>\n      <td>1493722</td>\n      <td>NaN</td>\n      <td>NaN</td>\n      <td>NaN</td>\n    </tr>\n  </tbody>\n</table>\n<p>1255 rows × 10 columns</p>\n</div>"
     },
     "execution_count": 43,
     "metadata": {},
     "output_type": "execute_result"
    }
   ],
   "source": [
    "df_merge =  pd.concat([df_f, df_new], axis=1, join='outer')\n",
    "df_merge"
   ],
   "metadata": {
    "collapsed": false,
    "pycharm": {
     "name": "#%%\n"
    }
   }
  },
  {
   "cell_type": "markdown",
   "source": [
    "##### 9. Use the transform() method on the FAANG data to represent all the values in terms of the first date in the data. To do so, divide all the values for each ticker by the values for the first date in the data for that ticker. This is referred to as an index, and the data for the first date is the base (https:// ec. europa. eu/ eurostat/ statistics- explained/ index. php/Beginners:Statistical_ concept_ - _ Index_ and_ base_ year). When data is in this format, we can easily see growth over time. Hint: transform() can take a function name."
   ],
   "metadata": {
    "collapsed": false,
    "pycharm": {
     "name": "#%% md\n"
    }
   }
  },
  {
   "cell_type": "markdown",
   "source": [
    "####"
   ],
   "metadata": {
    "collapsed": false,
    "pycharm": {
     "name": "#%% md\n"
    }
   }
  }
 ],
 "metadata": {
  "kernelspec": {
   "display_name": "Python 3",
   "language": "python",
   "name": "python3"
  },
  "language_info": {
   "codemirror_mode": {
    "name": "ipython",
    "version": 2
   },
   "file_extension": ".py",
   "mimetype": "text/x-python",
   "name": "python",
   "nbconvert_exporter": "python",
   "pygments_lexer": "ipython2",
   "version": "2.7.6"
  }
 },
 "nbformat": 4,
 "nbformat_minor": 0
}